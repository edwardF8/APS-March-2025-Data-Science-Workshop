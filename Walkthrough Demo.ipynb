{
  "cells": [
    {
      "cell_type": "markdown",
      "id": "0f91f3dd-c621-4cc1-936e-d63c3e7517df",
      "metadata": {
        "id": "0f91f3dd-c621-4cc1-936e-d63c3e7517df"
      },
      "source": [
        "### Breakdown of extra classes\n",
        "- LeNet: Main code that implements a normal CNN(LeNet)\n",
        "- Data: Holds DiffractionDataset, which is a subclass of the PyTorch 'Dataset' class, basically just turns our tensors(data) into useable values that we can throw into models and do distributed training"
      ]
    },
    {
      "cell_type": "code",
      "execution_count": null,
      "id": "01f0e8b9-ebfc-45f2-9b65-04b5cfc35c37",
      "metadata": {
        "tags": [],
        "id": "01f0e8b9-ebfc-45f2-9b65-04b5cfc35c37"
      },
      "outputs": [],
      "source": [
        "import torch\n",
        "import matplotlib.pyplot as plt\n",
        "from sklearn.model_selection import train_test_split\n",
        "import pandas\n",
        "from collections import OrderedDict\n",
        "import numpy as np\n",
        "from sklearn.metrics import confusion_matrix, ConfusionMatrixDisplay, mean_squared_error\n",
        "\n",
        "import os\n",
        "from datetime import datetime\n",
        "import math\n",
        "\n",
        "#Our Own Created Classes\n",
        "from LeNet import LeNet\n",
        "from Data import DiffractionDataset"
      ]
    },
    {
      "cell_type": "markdown",
      "id": "14ec1115-60c8-4435-885b-e7c7cff29754",
      "metadata": {
        "id": "14ec1115-60c8-4435-885b-e7c7cff29754"
      },
      "source": [
        "# Step 1: Load and Analyze Data"
      ]
    },
    {
      "cell_type": "code",
      "execution_count": null,
      "id": "cacda354-72e1-4787-bc07-9e8f283d628c",
      "metadata": {
        "tags": [],
        "id": "cacda354-72e1-4787-bc07-9e8f283d628c"
      },
      "outputs": [],
      "source": [
        "#might have to do /content/ if used colab\n",
        "TrainingData = torch.load(\"/content/100k_COD_TestTensor.pt\") #dict with diffraction patterns and space group"
      ]
    },
    {
      "cell_type": "markdown",
      "id": "b4697e32-0c4c-4b61-b99a-13a609457f40",
      "metadata": {
        "id": "b4697e32-0c4c-4b61-b99a-13a609457f40"
      },
      "source": [
        "### Load and AnalyzeTraining Data"
      ]
    },
    {
      "cell_type": "code",
      "execution_count": null,
      "id": "110c2c22-a631-4271-bbf9-dbfe50ca324e",
      "metadata": {
        "tags": [],
        "id": "110c2c22-a631-4271-bbf9-dbfe50ca324e"
      },
      "outputs": [],
      "source": [
        "data = TrainingData['X']\n",
        "labels = TrainingData['Y']\n",
        "mapping = torch.load(\"/content/mapping.pt\") #our data is in numbers, this maps numbers to actual bravais lattices\n"
      ]
    },
    {
      "cell_type": "code",
      "execution_count": null,
      "id": "ff6caf7f-f006-416a-85b2-994cebadb56e",
      "metadata": {
        "tags": [],
        "id": "ff6caf7f-f006-416a-85b2-994cebadb56e"
      },
      "outputs": [],
      "source": [
        "labels.shape #number of entires for train/val"
      ]
    },
    {
      "cell_type": "markdown",
      "id": "f898ef75-cbfd-49ac-a868-e3038aba7208",
      "metadata": {
        "id": "f898ef75-cbfd-49ac-a868-e3038aba7208"
      },
      "source": [
        "The next module shows the distribution of every bravais lattice, and shows the sad reality of scientific data -- a label imbalance"
      ]
    },
    {
      "cell_type": "code",
      "execution_count": null,
      "id": "f9d4500d-64b9-45dd-9425-c60f198aeb7b",
      "metadata": {
        "tags": [],
        "id": "f9d4500d-64b9-45dd-9425-c60f198aeb7b"
      },
      "outputs": [],
      "source": [
        "unique_values, counts = torch.unique(labels, return_counts=True)\n",
        "plt.bar(unique_values.numpy(), counts.numpy())\n",
        "plt.xlabel(\"Bravais Lattice Class\")\n",
        "plt.ylabel(\"Count\")\n",
        "plt.title(\"Distribution of labels\")"
      ]
    },
    {
      "cell_type": "markdown",
      "id": "6c204e8a-da89-4545-bbea-0c45e0bf16ba",
      "metadata": {
        "id": "6c204e8a-da89-4545-bbea-0c45e0bf16ba"
      },
      "source": [
        "### Create Validation Set\n",
        "- The purpose of a validation set is used to analyze our model's preformance on data that it hasnt trained on\n",
        "- We use the test set as a \"final\" metric"
      ]
    },
    {
      "cell_type": "code",
      "execution_count": null,
      "id": "2e6a5eb3-ce9e-4ed8-b35d-ab13fa15a35b",
      "metadata": {
        "tags": [],
        "id": "2e6a5eb3-ce9e-4ed8-b35d-ab13fa15a35b"
      },
      "outputs": [],
      "source": [
        "data_np = data.numpy()\n",
        "labels_np = labels.numpy()\n",
        "nptrainx, npvalx, nptrainy, npvaly = train_test_split( data_np, labels_np, test_size=0.05, random_state=42)\n",
        "\n",
        "validation_data = torch.from_numpy(npvalx)\n",
        "validation_labels = torch.from_numpy(npvaly)\n",
        "train_data = torch.from_numpy(nptrainx)\n",
        "train_labels = torch.from_numpy(nptrainy)\n",
        "print(\"Train Shape:\", train_labels.shape)\n",
        "print(\"Val Shape:\", validation_labels.shape)"
      ]
    },
    {
      "cell_type": "code",
      "execution_count": null,
      "id": "fd994d02-a6f2-46eb-88fd-63717c412a15",
      "metadata": {
        "tags": [],
        "id": "fd994d02-a6f2-46eb-88fd-63717c412a15"
      },
      "outputs": [],
      "source": [
        "train_data.shape"
      ]
    },
    {
      "cell_type": "markdown",
      "id": "5e3c3f5c-a6fe-4925-9b27-f91a8ad7cfed",
      "metadata": {
        "id": "5e3c3f5c-a6fe-4925-9b27-f91a8ad7cfed"
      },
      "source": [
        "# Step 2: Train the Models\n",
        "Define Hyperparmeters, put the model together, train it, and then repeat until the model's preformance looks good\n"
      ]
    },
    {
      "cell_type": "code",
      "execution_count": null,
      "id": "eeb77f6b-27af-46f6-b2f2-f9064489f6a1",
      "metadata": {
        "tags": [],
        "id": "eeb77f6b-27af-46f6-b2f2-f9064489f6a1"
      },
      "outputs": [],
      "source": [
        "learning_rate = 0.5e-3\n",
        "epochs = 15\n",
        "batch_size = 50\n",
        "input_size = 3041\n",
        "num_classes = 14"
      ]
    },
    {
      "cell_type": "code",
      "execution_count": null,
      "id": "b2fab85c-1d4a-4448-86fb-bddb39cd011d",
      "metadata": {
        "tags": [],
        "id": "b2fab85c-1d4a-4448-86fb-bddb39cd011d"
      },
      "outputs": [],
      "source": [
        "model = LeNet(input_size, num_classes)\n",
        "optimizer = torch.optim.Adam(model.parameters(), lr=learning_rate, eps=1e-5)\n",
        "crossentropy_loss_function = torch.nn.CrossEntropyLoss()"
      ]
    },
    {
      "cell_type": "code",
      "execution_count": null,
      "id": "b6c7e0fe-72c2-4dd8-aacc-ce8e550c25ea",
      "metadata": {
        "tags": [],
        "id": "b6c7e0fe-72c2-4dd8-aacc-ce8e550c25ea"
      },
      "outputs": [],
      "source": [
        "train_dataset = DiffractionDataset(num_classes, 1e-3, train_data, labels=train_labels, unsupervised=False, categorical='Bravais Lattice')\n",
        "train_loader = torch.utils.data.DataLoader(train_dataset, batch_size=batch_size, shuffle=True, num_workers=1, pin_memory=True)\n",
        "\n",
        "validation_dataset = DiffractionDataset(num_classes, 1e-3, validation_data, labels = validation_labels, unsupervised=False, categorical='Bravais Lattice')\n",
        "val_loader = torch.utils.data.DataLoader(validation_dataset, batch_size=batch_size, shuffle=False, num_workers=1, pin_memory=True)\n"
      ]
    },
    {
      "cell_type": "code",
      "execution_count": null,
      "id": "db9da718-e8ff-4000-9900-9e926d1509db",
      "metadata": {
        "tags": [],
        "id": "db9da718-e8ff-4000-9900-9e926d1509db"
      },
      "outputs": [],
      "source": [
        "start = datetime.now()\n",
        "for epoch in range(epochs):\n",
        "    model.train()\n",
        "    total_loss, total_correct, total_samples = 0, 0, 0\n",
        "    # Training Loop\n",
        "    i = 0\n",
        "    for imgs, labels in train_loader:\n",
        "        i+=1\n",
        "        optimizer.zero_grad()\n",
        "        logits = model(imgs) #compute Predictions\n",
        "        loss = crossentropy_loss_function(logits, labels) #compute Loss\n",
        "        loss.backward() #update Model\n",
        "        optimizer.step()\n",
        "\n",
        "        acc = (logits.argmax(dim=-1) == labels).float().mean().item()\n",
        "        total_loss += loss.item()\n",
        "        total_correct += (logits.argmax(dim=-1) == labels).sum().item()\n",
        "        total_samples += labels.size(0)\n",
        "        print(\"[Epoch %d/%d] [%d] [Batch loss: %.2f  Batch Acc: %d%%]\"% (epoch+1, epochs, i, loss.item(), 100 * acc))\n",
        "\n",
        "\n",
        "    train_acc = total_correct / total_samples * 100\n",
        "    print(f\"Epoch {epoch+1} Training Accuracy: {train_acc:.2f}%\")\n",
        "\n",
        "\n",
        "    model.eval()\n",
        "    total_correct, total_samples = 0, 0\n",
        "    with torch.no_grad():\n",
        "        for imgs, labels in val_loader:\n",
        "            logits = model(imgs)\n",
        "            total_correct += (logits.argmax(dim=-1) == labels).sum().item()\n",
        "            total_samples += labels.size(0)\n",
        "\n",
        "    val_acc = total_correct / total_samples * 100\n",
        "    print(f\"[Epoch %d/%d] [Training Loss: %d%%  Validation Loss: %d%%] \" % (epoch+1, epochs, (train_acc),(val_acc)))\n",
        "totalTime = datetime.now() - start\n",
        "print(f\"Total Train Time: {totalTime}\")"
      ]
    },
    {
      "cell_type": "code",
      "source": [
        "#if you want to save model(sometimes weird in collab, just add path to PATH)\n",
        "#torch.save({f'Model | {epochs} {batch_size} {learning_rate} | {datetime.now()}': model.state_dict(),'Optimizer | {epochs} {batch_size} {learning_rate} | {time}': optimizer.state_dict()}, 'PATH')"
      ],
      "metadata": {
        "id": "d3El6ZA209vl"
      },
      "id": "d3El6ZA209vl",
      "execution_count": null,
      "outputs": []
    },
    {
      "cell_type": "markdown",
      "id": "21327599-0546-46c1-82d8-ab39525988fb",
      "metadata": {
        "id": "21327599-0546-46c1-82d8-ab39525988fb"
      },
      "source": [
        "# Step 3: Analyze Model Results\n",
        "\n",
        "Now its time to grab our test tensor, and look at how our model did. While we could go back and re-train our model to get better results, its common practice in ML to not do this."
      ]
    },
    {
      "cell_type": "code",
      "execution_count": null,
      "id": "71476cb0-e550-4235-9fd9-69e53e71890f",
      "metadata": {
        "tags": [],
        "id": "71476cb0-e550-4235-9fd9-69e53e71890f"
      },
      "outputs": [],
      "source": [
        "test = torch.load(\"100k_COD_TestTensor.pt\")\n",
        "test_dataset = DiffractionDataset(num_classes, 1e-3, test['X'], labels=test['Y'], unsupervised=False, categorical='Bravais Lattice')\n",
        "test_loader = torch.utils.data.DataLoader(test_dataset, batch_size=batch_size, shuffle=False, num_workers=1, pin_memory=True)\n",
        "model.eval() #Prints Model (Encoder -> Convolutional Layers, Classifier -> Normal ANN)"
      ]
    },
    {
      "cell_type": "code",
      "execution_count": null,
      "id": "a5d8a79e-d46d-4b85-8638-e029e245fa67",
      "metadata": {
        "tags": [],
        "id": "a5d8a79e-d46d-4b85-8638-e029e245fa67"
      },
      "outputs": [],
      "source": [
        "input_example = test_dataset[0][0].unsqueeze(0)\n",
        "label_example = test_dataset[0][1]\n",
        "with torch.no_grad():\n",
        "    output_example = model(input_example)\n",
        "    example_pred = torch.argmax(output_example, dim=1).item()  # get predicted class"
      ]
    },
    {
      "cell_type": "code",
      "execution_count": null,
      "id": "e58e5a0e-6292-481c-99c3-2a0f95fcfea2",
      "metadata": {
        "tags": [],
        "id": "e58e5a0e-6292-481c-99c3-2a0f95fcfea2"
      },
      "outputs": [],
      "source": [
        "print(\"Example of Input(Diffraction Pattern)\")\n",
        "print(input_example)"
      ]
    },
    {
      "cell_type": "markdown",
      "id": "ae4c9a13-f189-4cad-83a6-891fad02d882",
      "metadata": {
        "id": "ae4c9a13-f189-4cad-83a6-891fad02d882"
      },
      "source": [
        "Logits are the direct output from the model for classificatio. Whatever class maps to a certain index, the number at that index in the array represents the models \"confidence\" that the input maps to that class"
      ]
    },
    {
      "cell_type": "code",
      "execution_count": null,
      "id": "a5fff8a2-d060-4b28-b48e-254c712b7bf7",
      "metadata": {
        "tags": [],
        "id": "a5fff8a2-d060-4b28-b48e-254c712b7bf7"
      },
      "outputs": [],
      "source": [
        "print(\"Example of Logits\")\n",
        "print(output_example)"
      ]
    },
    {
      "cell_type": "code",
      "execution_count": null,
      "id": "2d8657ee-8c05-4110-81a9-d7d0382851a2",
      "metadata": {
        "id": "2d8657ee-8c05-4110-81a9-d7d0382851a2"
      },
      "outputs": [],
      "source": [
        "print(f\"Numeric Class: {example_pred}\")\n",
        "print(f\"Bravais Lattice: {mapping['Bravais Lattice'][example_pred]}\")"
      ]
    },
    {
      "cell_type": "code",
      "execution_count": null,
      "id": "584ceccb-ae23-46ff-ab62-96cfec3d5fa4",
      "metadata": {
        "tags": [],
        "id": "584ceccb-ae23-46ff-ab62-96cfec3d5fa4"
      },
      "outputs": [],
      "source": [
        "print(label_example) #Hopefully its the same"
      ]
    },
    {
      "cell_type": "markdown",
      "id": "839666cd-bdf7-4a31-9239-d99394013a52",
      "metadata": {
        "id": "839666cd-bdf7-4a31-9239-d99394013a52"
      },
      "source": [
        "### Analyze using test-set"
      ]
    },
    {
      "cell_type": "code",
      "execution_count": null,
      "id": "015c6047-f53e-4cbe-9b21-3f9d2b9181eb",
      "metadata": {
        "tags": [],
        "id": "015c6047-f53e-4cbe-9b21-3f9d2b9181eb"
      },
      "outputs": [],
      "source": [
        "listofpreds = []\n",
        "listoflabels = []\n",
        "\n",
        "count = 0\n",
        "with torch.no_grad():\n",
        "    for inputs, labels in test_loader:\n",
        "        count+=1\n",
        "        outputs = model(inputs)\n",
        "        predictions = torch.argmax(outputs, dim=1)\n",
        "        listofpreds.extend(predictions)\n",
        "        listoflabels.extend(labels)\n",
        "accuracy = np.mean(np.array(listofpreds) == np.array(listoflabels))\n",
        "print(f\"Test Accuracy: {accuracy * 100}%\")\n",
        "rmse = np.sqrt(mean_squared_error(listoflabels, listofpreds))\n",
        "print(f\"Test Root Sqaured Mean Error(RSME): {rmse}\")\n",
        "\n",
        "conf_matrix = confusion_matrix(listoflabels, listofpreds)\n",
        "plt.figure(figsize=(10, 8))\n",
        "disp = ConfusionMatrixDisplay(conf_matrix)\n",
        "disp.plot(cmap=plt.cm.Reds, values_format='d')\n",
        "plt.title(\"Confusion Matrix for bravais lattice\")\n",
        "plt.show()"
      ]
    },
    {
      "cell_type": "code",
      "execution_count": null,
      "id": "d3b2063c-896e-492c-8ebf-83c2371320be",
      "metadata": {
        "scrolled": true,
        "tags": [],
        "id": "d3b2063c-896e-492c-8ebf-83c2371320be"
      },
      "outputs": [],
      "source": []
    }
  ],
  "metadata": {
    "kernelspec": {
      "display_name": "Python Crisp",
      "language": "python",
      "name": "crisp"
    },
    "language_info": {
      "codemirror_mode": {
        "name": "ipython",
        "version": 3
      },
      "file_extension": ".py",
      "mimetype": "text/x-python",
      "name": "python",
      "nbconvert_exporter": "python",
      "pygments_lexer": "ipython3",
      "version": "3.11.9"
    },
    "colab": {
      "provenance": [],
      "toc_visible": true
    }
  },
  "nbformat": 4,
  "nbformat_minor": 5
}