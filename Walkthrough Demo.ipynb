{
 "cells": [
  {
   "cell_type": "markdown",
   "id": "0f91f3dd-c621-4cc1-936e-d63c3e7517df",
   "metadata": {},
   "source": [
    "### Breakdown of extra classes\n",
    "- LeNet: Main code that implements a normal CNN(LeNet)\n",
    "- Data: Holds DiffractionDataset, which is a subclass of the PyTorch 'Dataset' class, basically just turns our tensors(data) into useable values that we can throw into models and do distributed training"
   ]
  },
  {
   "cell_type": "code",
   "execution_count": 1,
   "id": "01f0e8b9-ebfc-45f2-9b65-04b5cfc35c37",
   "metadata": {
    "tags": []
   },
   "outputs": [],
   "source": [
    "import torch\n",
    "import matplotlib.pyplot as plt\n",
    "from sklearn.model_selection import train_test_split\n",
    "import pandas\n",
    "from collections import OrderedDict\n",
    "import numpy as np\n",
    "from sklearn.metrics import confusion_matrix, ConfusionMatrixDisplay, mean_squared_error\n",
    "\n",
    "import os\n",
    "from datetime import datetime\n",
    "import math\n",
    "\n",
    "#Our Own Created Classes\n",
    "from LeNet import LeNet\n",
    "from Data import DiffractionDataset"
   ]
  },
  {
   "cell_type": "markdown",
   "id": "14ec1115-60c8-4435-885b-e7c7cff29754",
   "metadata": {},
   "source": [
    "# Step 1: Load and Analyze Data"
   ]
  },
  {
   "cell_type": "markdown",
   "id": "b4697e32-0c4c-4b61-b99a-13a609457f40",
   "metadata": {},
   "source": [
    "### Load and AnalyzeTraining Data"
   ]
  },
  {
   "cell_type": "code",
   "execution_count": 2,
   "id": "cacda354-72e1-4787-bc07-9e8f283d628c",
   "metadata": {
    "tags": []
   },
   "outputs": [],
   "source": [
    "TrainingData = torch.load(\"100k_COD_TrainTensor.pt\") #dict with diffraction patterns and space group"
   ]
  },
  {
   "cell_type": "code",
   "execution_count": 3,
   "id": "110c2c22-a631-4271-bbf9-dbfe50ca324e",
   "metadata": {
    "tags": []
   },
   "outputs": [],
   "source": [
    "data = TrainingData['X'] \n",
    "labels = TrainingData['Y']"
   ]
  },
  {
   "cell_type": "code",
   "execution_count": 4,
   "id": "ff6caf7f-f006-416a-85b2-994cebadb56e",
   "metadata": {
    "tags": []
   },
   "outputs": [
    {
     "data": {
      "text/plain": [
       "torch.Size([37635])"
      ]
     },
     "execution_count": 4,
     "metadata": {},
     "output_type": "execute_result"
    }
   ],
   "source": [
    "labels.shape #number of entires for train/val"
   ]
  },
  {
   "cell_type": "markdown",
   "id": "f898ef75-cbfd-49ac-a868-e3038aba7208",
   "metadata": {},
   "source": [
    "The next module shows the distribution of every bravais lattice, and shows the sad reality of scientific data -- a label imbalance "
   ]
  },
  {
   "cell_type": "code",
   "execution_count": 5,
   "id": "f9d4500d-64b9-45dd-9425-c60f198aeb7b",
   "metadata": {
    "collapsed": true,
    "jupyter": {
     "outputs_hidden": true
    },
    "tags": []
   },
   "outputs": [
    {
     "data": {
      "text/plain": [
       "Text(0.5, 1.0, 'Distribution of labels')"
      ]
     },
     "execution_count": 5,
     "metadata": {},
     "output_type": "execute_result"
    },
    {
     "data": {
      "image/png": "[encoded data removed]",
      "text/plain": [
       "<Figure size 640x480 with 1 Axes>"
      ]
     },
     "metadata": {},
     "output_type": "display_data"
    }
   ],
   "source": [
    "unique_values, counts = torch.unique(labels, return_counts=True)\n",
    "plt.bar(unique_values.numpy(), counts.numpy())\n",
    "plt.xlabel(\"Bravais Lattice Class\")\n",
    "plt.ylabel(\"Count\")\n",
    "plt.title(\"Distribution of labels\")"
   ]
  },
  {
   "cell_type": "markdown",
   "id": "6c204e8a-da89-4545-bbea-0c45e0bf16ba",
   "metadata": {},
   "source": [
    "### Create Validation Set\n",
    "- The purpose of a validation set is used to analyze our model's preformance on data that it hasnt trained on\n",
    "- We use the test set as a \"final\" metric"
   ]
  },
  {
   "cell_type": "code",
   "execution_count": 6,
   "id": "2e6a5eb3-ce9e-4ed8-b35d-ab13fa15a35b",
   "metadata": {
    "tags": []
   },
   "outputs": [
    {
     "name": "stdout",
     "output_type": "stream",
     "text": [
      "Train Shape: torch.Size([35753])\n",
      "Val Shape: torch.Size([1882])\n"
     ]
    }
   ],
   "source": [
    "data_np = data.numpy()\n",
    "labels_np = labels.numpy()\n",
    "nptrainx, npvalx, nptrainy, npvaly = train_test_split( data_np, labels_np, test_size=0.05, random_state=42)\n",
    "\n",
    "validation_data = torch.from_numpy(npvalx)\n",
    "validation_labels = torch.from_numpy(npvaly)\n",
    "train_data = torch.from_numpy(nptrainx)\n",
    "train_labels = torch.from_numpy(nptrainy)\n",
    "print(\"Train Shape:\", train_labels.shape)\n",
    "print(\"Val Shape:\", validation_labels.shape)"
   ]
  },
  {
   "cell_type": "code",
   "execution_count": 12,
   "id": "fd994d02-a6f2-46eb-88fd-63717c412a15",
   "metadata": {
    "tags": []
   },
   "outputs": [
    {
     "data": {
      "text/plain": [
       "torch.Size([35753, 3041])"
      ]
     },
     "execution_count": 12,
     "metadata": {},
     "output_type": "execute_result"
    }
   ],
   "source": [
    "train_data.shape"
   ]
  },
  {
   "cell_type": "markdown",
   "id": "5e3c3f5c-a6fe-4925-9b27-f91a8ad7cfed",
   "metadata": {},
   "source": [
    "# Step 2: Train the Models\n",
    "Define Hyperparmeters, put the model together, train it, and then repeat until the model's preformance looks good\n"
   ]
  },
  {
   "cell_type": "code",
   "execution_count": 13,
   "id": "eeb77f6b-27af-46f6-b2f2-f9064489f6a1",
   "metadata": {
    "tags": []
   },
   "outputs": [],
   "source": [
    "learning_rate = 0.5e-3\n",
    "epochs = 2\n",
    "batch_size = 500\n",
    "input_size = 3041\n",
    "num_classes = 14"
   ]
  },
  {
   "cell_type": "code",
   "execution_count": 15,
   "id": "b2fab85c-1d4a-4448-86fb-bddb39cd011d",
   "metadata": {
    "tags": []
   },
   "outputs": [],
   "source": [
    "model = LeNet(input_size, num_classes)\n",
    "optimizer = torch.optim.Adam(model.parameters(), lr=learning_rate, eps=1e-5)\n",
    "crossentropy_loss_function = torch.nn.CrossEntropyLoss()"
   ]
  },
  {
   "cell_type": "code",
   "execution_count": 16,
   "id": "b6c7e0fe-72c2-4dd8-aacc-ce8e550c25ea",
   "metadata": {
    "tags": []
   },
   "outputs": [
    {
     "name": "stdout",
     "output_type": "stream",
     "text": [
      "Attempting to load data\n",
      "Attempting to load data\n"
     ]
    }
   ],
   "source": [
    "train_dataset = DiffractionDataset(num_classes, 1e-3, train_data, labels=train_labels, unsupervised=False, categorical='Bravais Lattice')\n",
    "train_loader = torch.utils.data.DataLoader(train_dataset, batch_size=batch_size, shuffle=True, num_workers=1, pin_memory=True)\n",
    "\n",
    "validation_dataset = DiffractionDataset(num_classes, 1e-3, validation_data, labels = validation_labels, unsupervised=False, categorical='Bravais Lattice')       \n",
    "val_loader = torch.utils.data.DataLoader(validation_dataset, batch_size=batch_size, shuffle=False, num_workers=1, pin_memory=True)\n"
   ]
  },
  {
   "cell_type": "code",
   "execution_count": 17,
   "id": "db9da718-e8ff-4000-9900-9e926d1509db",
   "metadata": {
    "tags": []
   },
   "outputs": [
    {
     "name": "stdout",
     "output_type": "stream",
     "text": [
      "[Epoch 1/2] [1] [SD loss: 2.62  acc: 25%]\n",
      "[Epoch 1/2] [2] [SD loss: 2.53  acc: 16%]\n",
      "[Epoch 1/2] [3] [SD loss: 2.47  acc: 25%]\n",
      "[Epoch 1/2] [4] [SD loss: 2.36  acc: 25%]\n",
      "[Epoch 1/2] [5] [SD loss: 2.38  acc: 26%]\n",
      "[Epoch 1/2] [6] [SD loss: 2.36  acc: 25%]\n",
      "[Epoch 1/2] [7] [SD loss: 2.27  acc: 28%]\n",
      "[Epoch 1/2] [8] [SD loss: 2.39  acc: 21%]\n",
      "[Epoch 1/2] [9] [SD loss: 2.27  acc: 25%]\n",
      "[Epoch 1/2] [10] [SD loss: 2.31  acc: 26%]\n",
      "[Epoch 1/2] [11] [SD loss: 2.24  acc: 28%]\n",
      "[Epoch 1/2] [12] [SD loss: 2.21  acc: 23%]\n",
      "[Epoch 1/2] [13] [SD loss: 2.26  acc: 25%]\n",
      "[Epoch 1/2] [14] [SD loss: 2.22  acc: 25%]\n",
      "[Epoch 1/2] [15] [SD loss: 2.23  acc: 26%]\n",
      "[Epoch 1/2] [16] [SD loss: 2.22  acc: 24%]\n",
      "[Epoch 1/2] [17] [SD loss: 2.20  acc: 25%]\n",
      "[Epoch 1/2] [18] [SD loss: 2.23  acc: 22%]\n",
      "[Epoch 1/2] [19] [SD loss: 2.22  acc: 23%]\n",
      "[Epoch 1/2] [20] [SD loss: 2.14  acc: 26%]\n",
      "[Epoch 1/2] [21] [SD loss: 2.21  acc: 23%]\n",
      "[Epoch 1/2] [22] [SD loss: 2.23  acc: 25%]\n",
      "[Epoch 1/2] [23] [SD loss: 2.17  acc: 26%]\n",
      "[Epoch 1/2] [24] [SD loss: 2.19  acc: 23%]\n",
      "[Epoch 1/2] [25] [SD loss: 2.18  acc: 26%]\n",
      "[Epoch 1/2] [26] [SD loss: 2.17  acc: 25%]\n",
      "[Epoch 1/2] [27] [SD loss: 2.15  acc: 26%]\n",
      "[Epoch 1/2] [28] [SD loss: 2.22  acc: 26%]\n",
      "[Epoch 1/2] [29] [SD loss: 2.24  acc: 25%]\n",
      "[Epoch 1/2] [30] [SD loss: 2.19  acc: 24%]\n",
      "[Epoch 1/2] [31] [SD loss: 2.18  acc: 24%]\n",
      "[Epoch 1/2] [32] [SD loss: 2.24  acc: 23%]\n",
      "[Epoch 1/2] [33] [SD loss: 2.13  acc: 29%]\n",
      "[Epoch 1/2] [34] [SD loss: 2.20  acc: 25%]\n",
      "[Epoch 1/2] [35] [SD loss: 2.18  acc: 25%]\n",
      "[Epoch 1/2] [36] [SD loss: 2.17  acc: 27%]\n",
      "[Epoch 1/2] [37] [SD loss: 2.20  acc: 23%]\n",
      "[Epoch 1/2] [38] [SD loss: 2.20  acc: 25%]\n",
      "[Epoch 1/2] [39] [SD loss: 2.15  acc: 26%]\n",
      "[Epoch 1/2] [40] [SD loss: 2.15  acc: 28%]\n",
      "[Epoch 1/2] [41] [SD loss: 2.17  acc: 25%]\n",
      "[Epoch 1/2] [42] [SD loss: 2.20  acc: 25%]\n",
      "[Epoch 1/2] [43] [SD loss: 2.13  acc: 25%]\n",
      "[Epoch 1/2] [44] [SD loss: 2.15  acc: 27%]\n",
      "[Epoch 1/2] [45] [SD loss: 2.12  acc: 24%]\n",
      "[Epoch 1/2] [46] [SD loss: 2.20  acc: 24%]\n",
      "[Epoch 1/2] [47] [SD loss: 2.18  acc: 25%]\n",
      "[Epoch 1/2] [48] [SD loss: 2.17  acc: 27%]\n",
      "[Epoch 1/2] [49] [SD loss: 2.10  acc: 27%]\n",
      "[Epoch 1/2] [50] [SD loss: 2.13  acc: 31%]\n",
      "[Epoch 1/2] [51] [SD loss: 2.20  acc: 25%]\n",
      "[Epoch 1/2] [52] [SD loss: 2.15  acc: 27%]\n",
      "[Epoch 1/2] [53] [SD loss: 2.19  acc: 22%]\n",
      "[Epoch 1/2] [54] [SD loss: 2.14  acc: 25%]\n",
      "[Epoch 1/2] [55] [SD loss: 2.18  acc: 24%]\n",
      "[Epoch 1/2] [56] [SD loss: 2.17  acc: 24%]\n",
      "[Epoch 1/2] [57] [SD loss: 2.10  acc: 29%]\n",
      "[Epoch 1/2] [58] [SD loss: 2.12  acc: 25%]\n",
      "[Epoch 1/2] [59] [SD loss: 2.16  acc: 26%]\n",
      "[Epoch 1/2] [60] [SD loss: 2.16  acc: 20%]\n",
      "[Epoch 1/2] [61] [SD loss: 2.12  acc: 26%]\n",
      "[Epoch 1/2] [62] [SD loss: 2.09  acc: 25%]\n",
      "[Epoch 1/2] [63] [SD loss: 2.09  acc: 25%]\n",
      "[Epoch 1/2] [64] [SD loss: 2.13  acc: 22%]\n",
      "[Epoch 1/2] [65] [SD loss: 2.12  acc: 23%]\n",
      "[Epoch 1/2] [66] [SD loss: 2.09  acc: 25%]\n",
      "[Epoch 1/2] [67] [SD loss: 2.15  acc: 25%]\n",
      "[Epoch 1/2] [68] [SD loss: 2.03  acc: 29%]\n",
      "[Epoch 1/2] [69] [SD loss: 2.12  acc: 26%]\n",
      "[Epoch 1/2] [70] [SD loss: 2.06  acc: 25%]\n",
      "[Epoch 1/2] [71] [SD loss: 2.09  acc: 23%]\n",
      "[Epoch 1/2] [72] [SD loss: 2.16  acc: 25%]\n",
      "Epoch 1 Training Accuracy: 25.46%\n",
      "[Epoch 1/2] [Training Loss: 25%  Validation Loss: 28%] \n",
      "[Epoch 2/2] [1] [SD loss: 2.05  acc: 26%]\n",
      "[Epoch 2/2] [2] [SD loss: 2.05  acc: 30%]\n",
      "[Epoch 2/2] [3] [SD loss: 2.09  acc: 29%]\n",
      "[Epoch 2/2] [4] [SD loss: 2.06  acc: 32%]\n",
      "[Epoch 2/2] [5] [SD loss: 2.09  acc: 31%]\n",
      "[Epoch 2/2] [6] [SD loss: 2.06  acc: 28%]\n",
      "[Epoch 2/2] [7] [SD loss: 2.06  acc: 29%]\n",
      "[Epoch 2/2] [8] [SD loss: 2.00  acc: 29%]\n",
      "[Epoch 2/2] [9] [SD loss: 2.03  acc: 28%]\n",
      "[Epoch 2/2] [10] [SD loss: 2.09  acc: 29%]\n",
      "[Epoch 2/2] [11] [SD loss: 2.03  acc: 31%]\n",
      "[Epoch 2/2] [12] [SD loss: 2.06  acc: 34%]\n",
      "[Epoch 2/2] [13] [SD loss: 2.07  acc: 28%]\n",
      "[Epoch 2/2] [14] [SD loss: 2.10  acc: 32%]\n",
      "[Epoch 2/2] [15] [SD loss: 1.97  acc: 35%]\n",
      "[Epoch 2/2] [16] [SD loss: 1.99  acc: 34%]\n",
      "[Epoch 2/2] [17] [SD loss: 2.01  acc: 35%]\n",
      "[Epoch 2/2] [18] [SD loss: 1.96  acc: 31%]\n",
      "[Epoch 2/2] [19] [SD loss: 1.96  acc: 33%]\n",
      "[Epoch 2/2] [20] [SD loss: 1.98  acc: 36%]\n",
      "[Epoch 2/2] [21] [SD loss: 1.98  acc: 35%]\n",
      "[Epoch 2/2] [22] [SD loss: 1.97  acc: 35%]\n",
      "[Epoch 2/2] [23] [SD loss: 1.95  acc: 34%]\n",
      "[Epoch 2/2] [24] [SD loss: 1.94  acc: 33%]\n",
      "[Epoch 2/2] [25] [SD loss: 1.88  acc: 38%]\n",
      "[Epoch 2/2] [26] [SD loss: 1.90  acc: 34%]\n",
      "[Epoch 2/2] [27] [SD loss: 1.93  acc: 32%]\n",
      "[Epoch 2/2] [28] [SD loss: 1.90  acc: 36%]\n",
      "[Epoch 2/2] [29] [SD loss: 1.90  acc: 35%]\n",
      "[Epoch 2/2] [30] [SD loss: 1.97  acc: 34%]\n",
      "[Epoch 2/2] [31] [SD loss: 1.96  acc: 34%]\n",
      "[Epoch 2/2] [32] [SD loss: 1.89  acc: 36%]\n",
      "[Epoch 2/2] [33] [SD loss: 1.92  acc: 32%]\n",
      "[Epoch 2/2] [34] [SD loss: 1.82  acc: 39%]\n",
      "[Epoch 2/2] [35] [SD loss: 1.98  acc: 32%]\n",
      "[Epoch 2/2] [36] [SD loss: 1.90  acc: 36%]\n",
      "[Epoch 2/2] [37] [SD loss: 1.95  acc: 37%]\n",
      "[Epoch 2/2] [38] [SD loss: 1.93  acc: 36%]\n",
      "[Epoch 2/2] [39] [SD loss: 1.81  acc: 40%]\n",
      "[Epoch 2/2] [40] [SD loss: 1.90  acc: 37%]\n",
      "[Epoch 2/2] [41] [SD loss: 1.89  acc: 34%]\n",
      "[Epoch 2/2] [42] [SD loss: 1.80  acc: 38%]\n",
      "[Epoch 2/2] [43] [SD loss: 1.86  acc: 34%]\n",
      "[Epoch 2/2] [44] [SD loss: 1.80  acc: 38%]\n",
      "[Epoch 2/2] [45] [SD loss: 1.81  acc: 37%]\n",
      "[Epoch 2/2] [46] [SD loss: 1.85  acc: 36%]\n",
      "[Epoch 2/2] [47] [SD loss: 1.87  acc: 37%]\n",
      "[Epoch 2/2] [48] [SD loss: 1.81  acc: 42%]\n",
      "[Epoch 2/2] [49] [SD loss: 1.89  acc: 32%]\n",
      "[Epoch 2/2] [50] [SD loss: 1.86  acc: 35%]\n",
      "[Epoch 2/2] [51] [SD loss: 1.85  acc: 36%]\n",
      "[Epoch 2/2] [52] [SD loss: 1.83  acc: 37%]\n",
      "[Epoch 2/2] [53] [SD loss: 1.82  acc: 37%]\n",
      "[Epoch 2/2] [54] [SD loss: 1.81  acc: 37%]\n",
      "[Epoch 2/2] [55] [SD loss: 1.81  acc: 40%]\n",
      "[Epoch 2/2] [56] [SD loss: 1.80  acc: 37%]\n",
      "[Epoch 2/2] [57] [SD loss: 1.79  acc: 38%]\n",
      "[Epoch 2/2] [58] [SD loss: 1.78  acc: 35%]\n",
      "[Epoch 2/2] [59] [SD loss: 1.83  acc: 35%]\n",
      "[Epoch 2/2] [60] [SD loss: 1.90  acc: 32%]\n",
      "[Epoch 2/2] [61] [SD loss: 1.81  acc: 35%]\n",
      "[Epoch 2/2] [62] [SD loss: 1.80  acc: 40%]\n",
      "[Epoch 2/2] [63] [SD loss: 1.79  acc: 37%]\n",
      "[Epoch 2/2] [64] [SD loss: 1.82  acc: 39%]\n",
      "[Epoch 2/2] [65] [SD loss: 1.82  acc: 38%]\n",
      "[Epoch 2/2] [66] [SD loss: 1.80  acc: 37%]\n",
      "[Epoch 2/2] [67] [SD loss: 1.78  acc: 38%]\n",
      "[Epoch 2/2] [68] [SD loss: 1.82  acc: 38%]\n",
      "[Epoch 2/2] [69] [SD loss: 1.81  acc: 40%]\n",
      "[Epoch 2/2] [70] [SD loss: 1.82  acc: 34%]\n",
      "[Epoch 2/2] [71] [SD loss: 1.79  acc: 36%]\n",
      "[Epoch 2/2] [72] [SD loss: 1.76  acc: 38%]\n",
      "Epoch 2 Training Accuracy: 35.23%\n",
      "[Epoch 2/2] [Training Loss: 35%  Validation Loss: 36%] \n",
      "Total Train Time: 0:00:35.451854\n"
     ]
    }
   ],
   "source": [
    "start = datetime.now()\n",
    "for epoch in range(epochs):\n",
    "    model.train()\n",
    "    total_loss, total_correct, total_samples = 0, 0, 0\n",
    "    # Training Loop\n",
    "    i = 0\n",
    "    for imgs, labels in train_loader:\n",
    "        i+=1\n",
    "        optimizer.zero_grad()\n",
    "        logits = model(imgs) #Compute Predictions\n",
    "        loss = crossentropy_loss_function(logits, labels) #Compute Loss\n",
    "        loss.backward() #Update Model\n",
    "        optimizer.step()\n",
    "\n",
    "        acc = (logits.argmax(dim=-1) == labels).float().mean().item()\n",
    "        total_loss += loss.item()\n",
    "        total_correct += (logits.argmax(dim=-1) == labels).sum().item()\n",
    "        total_samples += labels.size(0)\n",
    "        print(\"[Epoch %d/%d] [%d] [SD loss: %.2f  acc: %d%%]\"% (epoch+1, epochs, i, loss.item(), 100 * acc))\n",
    "\n",
    "\n",
    "    train_acc = total_correct / total_samples * 100\n",
    "    print(f\"Epoch {epoch+1} Training Accuracy: {train_acc:.2f}%\")\n",
    "\n",
    "\n",
    "    model.eval()\n",
    "    total_correct, total_samples = 0, 0\n",
    "    with torch.no_grad():\n",
    "        for imgs, labels in val_loader:\n",
    "            logits = model(imgs)\n",
    "            total_correct += (logits.argmax(dim=-1) == labels).sum().item()\n",
    "            total_samples += labels.size(0)\n",
    "\n",
    "    val_acc = total_correct / total_samples * 100\n",
    "    print(f\"[Epoch %d/%d] [Training Loss: %d%%  Validation Loss: %d%%] \" % (epoch+1, epochs, (train_acc),(val_acc)))\n",
    "totalTime = datetime.now() - start\n",
    "print(f\"Total Train Time: {totalTime}\")\n",
    "#torch.save({'model': model.state_dict(),'optimizer': optimizer.state_dict()}, model_path)\n"
   ]
  },
  {
   "cell_type": "markdown",
   "id": "21327599-0546-46c1-82d8-ab39525988fb",
   "metadata": {},
   "source": [
    "# Step 3: Analyze Model Results\n",
    "\n",
    "Now its time to grab our test tensor, and look at how our model did. While we could go back and re-train our model to get better results, its common practice in ML to not do this."
   ]
  },
  {
   "cell_type": "code",
   "execution_count": 22,
   "id": "015c6047-f53e-4cbe-9b21-3f9d2b9181eb",
   "metadata": {
    "tags": []
   },
   "outputs": [
    {
     "name": "stdout",
     "output_type": "stream",
     "text": [
      "Attempting to load data\n",
      "RMSE: 4.5340\n"
     ]
    },
    {
     "data": {
      "text/plain": [
       "<Figure size 1000x800 with 0 Axes>"
      ]
     },
     "metadata": {},
     "output_type": "display_data"
    },
    {
     "data": {
      "image/png": "[encoded data removed]",
      "text/plain": [
       "<Figure size 640x480 with 2 Axes>"
      ]
     },
     "metadata": {},
     "output_type": "display_data"
    }
   ],
   "source": [
    "test = torch.load(\"100k_COD_TestTensor.pt\")\n",
    "test_dataset = DiffractionDataset(num_classes, 1e-3, test['X'], labels=test['Y'], unsupervised=False, categorical='Bravais Lattice')\n",
    "test_loader = torch.utils.data.DataLoader(test_dataset, batch_size=batch_size, shuffle=False, num_workers=1, pin_memory=True)\n",
    "model.eval()\n",
    "listofpreds = []\n",
    "listoflabels = []\n",
    "\n",
    "count = 0\n",
    "with torch.no_grad():\n",
    "    for inputs, labels in test_loader:\n",
    "        count+=1\n",
    "        outputs = model(inputs)\n",
    "        predictions = torch.argmax(outputs, dim=1)\n",
    "        if(count == 1):\n",
    "            print(\"Sample Output from model: \")\n",
    "            print(outputs)\n",
    "            print(\"After running through argmax: \")\n",
    "            print(predictions)\n",
    "        listofpreds.extend(predictions)\n",
    "        listoflabels.extend(labels)\n",
    "\n",
    "rmse = np.sqrt(mean_squared_error(listoflabels, listofpreds))\n",
    "print(f\"RMSE: {rmse:.4f}\")\n",
    "\n",
    "conf_matrix = confusion_matrix(listoflabels, listofpreds)\n",
    "plt.figure(figsize=(10, 8))\n",
    "disp = ConfusionMatrixDisplay(conf_matrix)\n",
    "disp.plot(cmap=plt.cm.Reds, values_format='d')\n",
    "plt.title(\"Confusion Matrix for bravais lattice\")\n",
    "plt.show()"
   ]
  },
  {
   "cell_type": "code",
   "execution_count": null,
   "id": "d3b2063c-896e-492c-8ebf-83c2371320be",
   "metadata": {},
   "outputs": [],
   "source": []
  }
 ],
 "metadata": {
  "kernelspec": {
   "display_name": "Python Crisp",
   "language": "python",
   "name": "crisp"
  },
  "language_info": {
   "codemirror_mode": {
    "name": "ipython",
    "version": 3
   },
   "file_extension": ".py",
   "mimetype": "text/x-python",
   "name": "python",
   "nbconvert_exporter": "python",
   "pygments_lexer": "ipython3",
   "version": "3.11.9"
  }
 },
 "nbformat": 4,
 "nbformat_minor": 5
}
