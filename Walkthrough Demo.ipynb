{
  "cells": [
    {
      "cell_type": "markdown",
      "id": "0f91f3dd-c621-4cc1-936e-d63c3e7517df",
      "metadata": {
        "id": "0f91f3dd-c621-4cc1-936e-d63c3e7517df"
      },
      "source": [
        "### Breakdown of extra classes\n",
        "- LeNet: Main code that implements a normal CNN(LeNet)\n",
        "- Data: Holds DiffractionDataset, which is a subclass of the PyTorch 'Dataset' class, basically just turns our tensors(data) into useable values that we can throw into models and do distributed training"
      ]
    },
    {
      "cell_type": "code",
      "execution_count": 2,
      "id": "01f0e8b9-ebfc-45f2-9b65-04b5cfc35c37",
      "metadata": {
        "tags": [],
        "id": "01f0e8b9-ebfc-45f2-9b65-04b5cfc35c37"
      },
      "outputs": [],
      "source": [
        "import torch\n",
        "import matplotlib.pyplot as plt\n",
        "from sklearn.model_selection import train_test_split\n",
        "import pandas\n",
        "from collections import OrderedDict\n",
        "import numpy as np\n",
        "from sklearn.metrics import confusion_matrix, ConfusionMatrixDisplay, mean_squared_error\n",
        "\n",
        "import os\n",
        "from datetime import datetime\n",
        "import math\n",
        "\n",
        "#Our Own Created Classes\n",
        "from LeNet import LeNet\n",
        "from Data import DiffractionDataset"
      ]
    },
    {
      "cell_type": "markdown",
      "id": "14ec1115-60c8-4435-885b-e7c7cff29754",
      "metadata": {
        "id": "14ec1115-60c8-4435-885b-e7c7cff29754"
      },
      "source": [
        "# Step 1: Load and Analyze Data"
      ]
    },
    {
      "cell_type": "code",
      "execution_count": 9,
      "id": "cacda354-72e1-4787-bc07-9e8f283d628c",
      "metadata": {
        "tags": [],
        "id": "cacda354-72e1-4787-bc07-9e8f283d628c"
      },
      "outputs": [],
      "source": [
        "#might have to do /content/ if used colab\n",
        "TrainingData = torch.load(\"/content/100k_COD_TestTensor.pt\") #dict with diffraction patterns and space group"
      ]
    },
    {
      "cell_type": "markdown",
      "id": "b4697e32-0c4c-4b61-b99a-13a609457f40",
      "metadata": {
        "id": "b4697e32-0c4c-4b61-b99a-13a609457f40"
      },
      "source": [
        "### Load and AnalyzeTraining Data"
      ]
    },
    {
      "cell_type": "code",
      "execution_count": 11,
      "id": "110c2c22-a631-4271-bbf9-dbfe50ca324e",
      "metadata": {
        "tags": [],
        "id": "110c2c22-a631-4271-bbf9-dbfe50ca324e"
      },
      "outputs": [],
      "source": [
        "data = TrainingData['X']\n",
        "labels = TrainingData['Y']\n",
        "mapping = torch.load(\"/content/mapping.pt\") #our data is in numbers, this maps numbers to actual bravais lattices\n"
      ]
    },
    {
      "cell_type": "code",
      "execution_count": 12,
      "id": "ff6caf7f-f006-416a-85b2-994cebadb56e",
      "metadata": {
        "tags": [],
        "id": "ff6caf7f-f006-416a-85b2-994cebadb56e",
        "outputId": "abb2304a-a56a-4f56-89bb-8c7b93124da6",
        "colab": {
          "base_uri": "https://localhost:8080/"
        }
      },
      "outputs": [
        {
          "output_type": "execute_result",
          "data": {
            "text/plain": [
              "torch.Size([1959])"
            ]
          },
          "metadata": {},
          "execution_count": 12
        }
      ],
      "source": [
        "labels.shape #number of entires for train/val"
      ]
    },
    {
      "cell_type": "markdown",
      "id": "f898ef75-cbfd-49ac-a868-e3038aba7208",
      "metadata": {
        "id": "f898ef75-cbfd-49ac-a868-e3038aba7208"
      },
      "source": [
        "The next module shows the distribution of every bravais lattice, and shows the sad reality of scientific data -- a label imbalance"
      ]
    },
    {
      "cell_type": "code",
      "execution_count": 13,
      "id": "f9d4500d-64b9-45dd-9425-c60f198aeb7b",
      "metadata": {
        "tags": [],
        "id": "f9d4500d-64b9-45dd-9425-c60f198aeb7b",
        "outputId": "e911cdba-2e84-4484-8cb4-f1f7e04c3f71",
        "colab": {
          "base_uri": "https://localhost:8080/",
          "height": 490
        }
      },
      "outputs": [
        {
          "output_type": "execute_result",
          "data": {
            "text/plain": [
              "Text(0.5, 1.0, 'Distribution of labels')"
            ]
          },
          "metadata": {},
          "execution_count": 13
        },
        {
          "output_type": "display_data",
          "data": {
            "text/plain": [
              "<Figure size 640x480 with 1 Axes>"
            ],
            "image/png": "[encoded data removed]"
          },
          "metadata": {}
        }
      ],
      "source": [
        "unique_values, counts = torch.unique(labels, return_counts=True)\n",
        "plt.bar(unique_values.numpy(), counts.numpy())\n",
        "plt.xlabel(\"Bravais Lattice Class\")\n",
        "plt.ylabel(\"Count\")\n",
        "plt.title(\"Distribution of labels\")"
      ]
    },
    {
      "cell_type": "markdown",
      "id": "6c204e8a-da89-4545-bbea-0c45e0bf16ba",
      "metadata": {
        "id": "6c204e8a-da89-4545-bbea-0c45e0bf16ba"
      },
      "source": [
        "### Create Validation Set\n",
        "- The purpose of a validation set is used to analyze our model's preformance on data that it hasnt trained on\n",
        "- We use the test set as a \"final\" metric"
      ]
    },
    {
      "cell_type": "code",
      "execution_count": 14,
      "id": "2e6a5eb3-ce9e-4ed8-b35d-ab13fa15a35b",
      "metadata": {
        "tags": [],
        "id": "2e6a5eb3-ce9e-4ed8-b35d-ab13fa15a35b",
        "outputId": "5b92d631-35de-4cf7-c719-2ab2e7bec5e4",
        "colab": {
          "base_uri": "https://localhost:8080/"
        }
      },
      "outputs": [
        {
          "output_type": "stream",
          "name": "stdout",
          "text": [
            "Train Shape: torch.Size([1861])\n",
            "Val Shape: torch.Size([98])\n"
          ]
        }
      ],
      "source": [
        "data_np = data.numpy()\n",
        "labels_np = labels.numpy()\n",
        "nptrainx, npvalx, nptrainy, npvaly = train_test_split( data_np, labels_np, test_size=0.05, random_state=42)\n",
        "\n",
        "validation_data = torch.from_numpy(npvalx)\n",
        "validation_labels = torch.from_numpy(npvaly)\n",
        "train_data = torch.from_numpy(nptrainx)\n",
        "train_labels = torch.from_numpy(nptrainy)\n",
        "print(\"Train Shape:\", train_labels.shape)\n",
        "print(\"Val Shape:\", validation_labels.shape)"
      ]
    },
    {
      "cell_type": "code",
      "execution_count": 15,
      "id": "fd994d02-a6f2-46eb-88fd-63717c412a15",
      "metadata": {
        "tags": [],
        "id": "fd994d02-a6f2-46eb-88fd-63717c412a15",
        "outputId": "d934d3af-fa4a-4e35-f7c0-4ec1aa6b8827",
        "colab": {
          "base_uri": "https://localhost:8080/"
        }
      },
      "outputs": [
        {
          "output_type": "execute_result",
          "data": {
            "text/plain": [
              "torch.Size([1861, 3041])"
            ]
          },
          "metadata": {},
          "execution_count": 15
        }
      ],
      "source": [
        "train_data.shape"
      ]
    },
    {
      "cell_type": "markdown",
      "id": "5e3c3f5c-a6fe-4925-9b27-f91a8ad7cfed",
      "metadata": {
        "id": "5e3c3f5c-a6fe-4925-9b27-f91a8ad7cfed"
      },
      "source": [
        "# Step 2: Train the Models\n",
        "Define Hyperparmeters, put the model together, train it, and then repeat until the model's preformance looks good\n"
      ]
    },
    {
      "cell_type": "code",
      "execution_count": 20,
      "id": "eeb77f6b-27af-46f6-b2f2-f9064489f6a1",
      "metadata": {
        "tags": [],
        "id": "eeb77f6b-27af-46f6-b2f2-f9064489f6a1"
      },
      "outputs": [],
      "source": [
        "learning_rate = 0.5e-3\n",
        "epochs = 15\n",
        "batch_size = 50\n",
        "input_size = 3041\n",
        "num_classes = 14"
      ]
    },
    {
      "cell_type": "code",
      "execution_count": 17,
      "id": "b2fab85c-1d4a-4448-86fb-bddb39cd011d",
      "metadata": {
        "tags": [],
        "id": "b2fab85c-1d4a-4448-86fb-bddb39cd011d"
      },
      "outputs": [],
      "source": [
        "model = LeNet(input_size, num_classes)\n",
        "optimizer = torch.optim.Adam(model.parameters(), lr=learning_rate, eps=1e-5)\n",
        "crossentropy_loss_function = torch.nn.CrossEntropyLoss()"
      ]
    },
    {
      "cell_type": "code",
      "execution_count": 18,
      "id": "b6c7e0fe-72c2-4dd8-aacc-ce8e550c25ea",
      "metadata": {
        "tags": [],
        "id": "b6c7e0fe-72c2-4dd8-aacc-ce8e550c25ea",
        "outputId": "1f359e71-635f-49de-b4e3-f500c1cee10f",
        "colab": {
          "base_uri": "https://localhost:8080/"
        }
      },
      "outputs": [
        {
          "output_type": "stream",
          "name": "stdout",
          "text": [
            "Attempting to load data\n",
            "Attempting to load data\n"
          ]
        }
      ],
      "source": [
        "train_dataset = DiffractionDataset(num_classes, 1e-3, train_data, labels=train_labels, unsupervised=False, categorical='Bravais Lattice')\n",
        "train_loader = torch.utils.data.DataLoader(train_dataset, batch_size=batch_size, shuffle=True, num_workers=1, pin_memory=True)\n",
        "\n",
        "validation_dataset = DiffractionDataset(num_classes, 1e-3, validation_data, labels = validation_labels, unsupervised=False, categorical='Bravais Lattice')\n",
        "val_loader = torch.utils.data.DataLoader(validation_dataset, batch_size=batch_size, shuffle=False, num_workers=1, pin_memory=True)\n"
      ]
    },
    {
      "cell_type": "code",
      "execution_count": 21,
      "id": "db9da718-e8ff-4000-9900-9e926d1509db",
      "metadata": {
        "tags": [],
        "id": "db9da718-e8ff-4000-9900-9e926d1509db",
        "outputId": "24a9f9c4-a8bd-4104-b045-6860934b1441",
        "colab": {
          "base_uri": "https://localhost:8080/",
          "height": 1000
        }
      },
      "outputs": [
        {
          "output_type": "stream",
          "name": "stdout",
          "text": [
            "[Epoch 1/15] [1] [Batch loss: 1.80  Batch Acc: 30%]\n",
            "[Epoch 1/15] [2] [Batch loss: 2.10  Batch Acc: 34%]\n",
            "[Epoch 1/15] [3] [Batch loss: 1.83  Batch Acc: 46%]\n",
            "[Epoch 1/15] [4] [Batch loss: 1.81  Batch Acc: 41%]\n",
            "[Epoch 1/15] [5] [Batch loss: 1.92  Batch Acc: 34%]\n",
            "[Epoch 1/15] [6] [Batch loss: 1.94  Batch Acc: 34%]\n",
            "[Epoch 1/15] [7] [Batch loss: 1.92  Batch Acc: 30%]\n",
            "[Epoch 1/15] [8] [Batch loss: 1.94  Batch Acc: 31%]\n",
            "[Epoch 1/15] [9] [Batch loss: 2.06  Batch Acc: 37%]\n",
            "[Epoch 1/15] [10] [Batch loss: 1.76  Batch Acc: 41%]\n",
            "[Epoch 1/15] [11] [Batch loss: 1.90  Batch Acc: 31%]\n",
            "[Epoch 1/15] [12] [Batch loss: 1.91  Batch Acc: 28%]\n",
            "[Epoch 1/15] [13] [Batch loss: 2.05  Batch Acc: 34%]\n",
            "[Epoch 1/15] [14] [Batch loss: 2.06  Batch Acc: 40%]\n",
            "[Epoch 1/15] [15] [Batch loss: 1.53  Batch Acc: 47%]\n",
            "[Epoch 1/15] [16] [Batch loss: 1.73  Batch Acc: 41%]\n",
            "[Epoch 1/15] [17] [Batch loss: 1.92  Batch Acc: 31%]\n",
            "[Epoch 1/15] [18] [Batch loss: 1.98  Batch Acc: 28%]\n",
            "[Epoch 1/15] [19] [Batch loss: 2.04  Batch Acc: 34%]\n",
            "[Epoch 1/15] [20] [Batch loss: 1.80  Batch Acc: 37%]\n",
            "[Epoch 1/15] [21] [Batch loss: 1.77  Batch Acc: 40%]\n",
            "[Epoch 1/15] [22] [Batch loss: 1.91  Batch Acc: 43%]\n",
            "[Epoch 1/15] [23] [Batch loss: 1.88  Batch Acc: 31%]\n",
            "[Epoch 1/15] [24] [Batch loss: 1.68  Batch Acc: 41%]\n",
            "[Epoch 1/15] [25] [Batch loss: 2.04  Batch Acc: 25%]\n",
            "[Epoch 1/15] [26] [Batch loss: 1.77  Batch Acc: 36%]\n",
            "[Epoch 1/15] [27] [Batch loss: 1.84  Batch Acc: 30%]\n",
            "[Epoch 1/15] [28] [Batch loss: 1.84  Batch Acc: 31%]\n",
            "[Epoch 1/15] [29] [Batch loss: 1.68  Batch Acc: 40%]\n",
            "[Epoch 1/15] [30] [Batch loss: 1.83  Batch Acc: 36%]\n",
            "[Epoch 1/15] [31] [Batch loss: 1.91  Batch Acc: 25%]\n",
            "[Epoch 1/15] [32] [Batch loss: 1.73  Batch Acc: 40%]\n",
            "[Epoch 1/15] [33] [Batch loss: 1.73  Batch Acc: 40%]\n",
            "[Epoch 1/15] [34] [Batch loss: 1.83  Batch Acc: 37%]\n",
            "[Epoch 1/15] [35] [Batch loss: 1.80  Batch Acc: 36%]\n",
            "[Epoch 1/15] [36] [Batch loss: 1.90  Batch Acc: 31%]\n",
            "[Epoch 1/15] [37] [Batch loss: 1.88  Batch Acc: 28%]\n",
            "[Epoch 1/15] [38] [Batch loss: 1.98  Batch Acc: 36%]\n",
            "Epoch 1 Training Accuracy: 35.57%\n",
            "[Epoch 1/15] [Training Loss: 35%  Validation Loss: 35%] \n",
            "[Epoch 2/15] [1] [Batch loss: 1.70  Batch Acc: 41%]\n",
            "[Epoch 2/15] [2] [Batch loss: 1.89  Batch Acc: 28%]\n",
            "[Epoch 2/15] [3] [Batch loss: 1.78  Batch Acc: 40%]\n",
            "[Epoch 2/15] [4] [Batch loss: 1.78  Batch Acc: 40%]\n",
            "[Epoch 2/15] [5] [Batch loss: 1.86  Batch Acc: 36%]\n",
            "[Epoch 2/15] [6] [Batch loss: 1.74  Batch Acc: 54%]\n",
            "[Epoch 2/15] [7] [Batch loss: 1.65  Batch Acc: 40%]\n",
            "[Epoch 2/15] [8] [Batch loss: 1.80  Batch Acc: 36%]\n",
            "[Epoch 2/15] [9] [Batch loss: 1.85  Batch Acc: 40%]\n",
            "[Epoch 2/15] [10] [Batch loss: 1.76  Batch Acc: 34%]\n",
            "[Epoch 2/15] [11] [Batch loss: 1.81  Batch Acc: 40%]\n",
            "[Epoch 2/15] [12] [Batch loss: 1.91  Batch Acc: 30%]\n",
            "[Epoch 2/15] [13] [Batch loss: 1.89  Batch Acc: 36%]\n",
            "[Epoch 2/15] [14] [Batch loss: 1.67  Batch Acc: 41%]\n",
            "[Epoch 2/15] [15] [Batch loss: 1.51  Batch Acc: 47%]\n",
            "[Epoch 2/15] [16] [Batch loss: 1.65  Batch Acc: 51%]\n",
            "[Epoch 2/15] [17] [Batch loss: 1.51  Batch Acc: 50%]\n",
            "[Epoch 2/15] [18] [Batch loss: 1.72  Batch Acc: 41%]\n",
            "[Epoch 2/15] [19] [Batch loss: 1.95  Batch Acc: 31%]\n",
            "[Epoch 2/15] [20] [Batch loss: 1.59  Batch Acc: 47%]\n",
            "[Epoch 2/15] [21] [Batch loss: 1.91  Batch Acc: 25%]\n",
            "[Epoch 2/15] [22] [Batch loss: 1.87  Batch Acc: 34%]\n",
            "[Epoch 2/15] [23] [Batch loss: 1.81  Batch Acc: 40%]\n",
            "[Epoch 2/15] [24] [Batch loss: 1.77  Batch Acc: 41%]\n",
            "[Epoch 2/15] [25] [Batch loss: 1.75  Batch Acc: 43%]\n",
            "[Epoch 2/15] [26] [Batch loss: 1.84  Batch Acc: 34%]\n",
            "[Epoch 2/15] [27] [Batch loss: 1.79  Batch Acc: 28%]\n",
            "[Epoch 2/15] [28] [Batch loss: 1.70  Batch Acc: 41%]\n",
            "[Epoch 2/15] [29] [Batch loss: 1.83  Batch Acc: 40%]\n",
            "[Epoch 2/15] [30] [Batch loss: 1.81  Batch Acc: 37%]\n",
            "[Epoch 2/15] [31] [Batch loss: 1.63  Batch Acc: 41%]\n",
            "[Epoch 2/15] [32] [Batch loss: 1.53  Batch Acc: 43%]\n",
            "[Epoch 2/15] [33] [Batch loss: 1.82  Batch Acc: 20%]\n",
            "[Epoch 2/15] [34] [Batch loss: 1.96  Batch Acc: 31%]\n",
            "[Epoch 2/15] [35] [Batch loss: 1.67  Batch Acc: 43%]\n",
            "[Epoch 2/15] [36] [Batch loss: 2.09  Batch Acc: 34%]\n",
            "[Epoch 2/15] [37] [Batch loss: 1.60  Batch Acc: 37%]\n",
            "[Epoch 2/15] [38] [Batch loss: 1.65  Batch Acc: 27%]\n",
            "Epoch 2 Training Accuracy: 38.64%\n",
            "[Epoch 2/15] [Training Loss: 38%  Validation Loss: 29%] \n",
            "[Epoch 3/15] [1] [Batch loss: 1.80  Batch Acc: 34%]\n",
            "[Epoch 3/15] [2] [Batch loss: 1.88  Batch Acc: 31%]\n",
            "[Epoch 3/15] [3] [Batch loss: 1.69  Batch Acc: 43%]\n",
            "[Epoch 3/15] [4] [Batch loss: 1.97  Batch Acc: 20%]\n",
            "[Epoch 3/15] [5] [Batch loss: 1.74  Batch Acc: 23%]\n",
            "[Epoch 3/15] [6] [Batch loss: 1.96  Batch Acc: 34%]\n",
            "[Epoch 3/15] [7] [Batch loss: 1.73  Batch Acc: 43%]\n",
            "[Epoch 3/15] [8] [Batch loss: 1.51  Batch Acc: 46%]\n",
            "[Epoch 3/15] [9] [Batch loss: 1.72  Batch Acc: 37%]\n",
            "[Epoch 3/15] [10] [Batch loss: 1.68  Batch Acc: 34%]\n",
            "[Epoch 3/15] [11] [Batch loss: 1.95  Batch Acc: 25%]\n",
            "[Epoch 3/15] [12] [Batch loss: 1.57  Batch Acc: 43%]\n",
            "[Epoch 3/15] [13] [Batch loss: 1.75  Batch Acc: 25%]\n",
            "[Epoch 3/15] [14] [Batch loss: 1.63  Batch Acc: 28%]\n",
            "[Epoch 3/15] [15] [Batch loss: 1.65  Batch Acc: 46%]\n",
            "[Epoch 3/15] [16] [Batch loss: 1.64  Batch Acc: 50%]\n",
            "[Epoch 3/15] [17] [Batch loss: 1.76  Batch Acc: 34%]\n",
            "[Epoch 3/15] [18] [Batch loss: 1.93  Batch Acc: 30%]\n",
            "[Epoch 3/15] [19] [Batch loss: 1.84  Batch Acc: 41%]\n",
            "[Epoch 3/15] [20] [Batch loss: 1.55  Batch Acc: 37%]\n",
            "[Epoch 3/15] [21] [Batch loss: 1.63  Batch Acc: 41%]\n",
            "[Epoch 3/15] [22] [Batch loss: 1.59  Batch Acc: 51%]\n",
            "[Epoch 3/15] [23] [Batch loss: 1.65  Batch Acc: 47%]\n",
            "[Epoch 3/15] [24] [Batch loss: 1.74  Batch Acc: 46%]\n",
            "[Epoch 3/15] [25] [Batch loss: 1.79  Batch Acc: 25%]\n",
            "[Epoch 3/15] [26] [Batch loss: 1.81  Batch Acc: 34%]\n",
            "[Epoch 3/15] [27] [Batch loss: 1.60  Batch Acc: 41%]\n",
            "[Epoch 3/15] [28] [Batch loss: 1.82  Batch Acc: 37%]\n",
            "[Epoch 3/15] [29] [Batch loss: 1.59  Batch Acc: 50%]\n",
            "[Epoch 3/15] [30] [Batch loss: 1.50  Batch Acc: 54%]\n",
            "[Epoch 3/15] [31] [Batch loss: 1.74  Batch Acc: 50%]\n",
            "[Epoch 3/15] [32] [Batch loss: 1.50  Batch Acc: 41%]\n",
            "[Epoch 3/15] [33] [Batch loss: 1.60  Batch Acc: 46%]\n",
            "[Epoch 3/15] [34] [Batch loss: 1.74  Batch Acc: 31%]\n",
            "[Epoch 3/15] [35] [Batch loss: 1.74  Batch Acc: 46%]\n",
            "[Epoch 3/15] [36] [Batch loss: 1.65  Batch Acc: 36%]\n",
            "[Epoch 3/15] [37] [Batch loss: 1.58  Batch Acc: 41%]\n",
            "[Epoch 3/15] [38] [Batch loss: 2.05  Batch Acc: 36%]\n",
            "Epoch 3 Training Accuracy: 38.90%\n",
            "[Epoch 3/15] [Training Loss: 38%  Validation Loss: 34%] \n",
            "[Epoch 4/15] [1] [Batch loss: 1.64  Batch Acc: 43%]\n",
            "[Epoch 4/15] [2] [Batch loss: 1.35  Batch Acc: 47%]\n",
            "[Epoch 4/15] [3] [Batch loss: 1.54  Batch Acc: 51%]\n",
            "[Epoch 4/15] [4] [Batch loss: 1.67  Batch Acc: 37%]\n",
            "[Epoch 4/15] [5] [Batch loss: 1.62  Batch Acc: 34%]\n",
            "[Epoch 4/15] [6] [Batch loss: 1.76  Batch Acc: 50%]\n",
            "[Epoch 4/15] [7] [Batch loss: 1.53  Batch Acc: 50%]\n",
            "[Epoch 4/15] [8] [Batch loss: 1.80  Batch Acc: 41%]\n",
            "[Epoch 4/15] [9] [Batch loss: 1.61  Batch Acc: 37%]\n",
            "[Epoch 4/15] [10] [Batch loss: 1.58  Batch Acc: 43%]\n",
            "[Epoch 4/15] [11] [Batch loss: 1.73  Batch Acc: 43%]\n",
            "[Epoch 4/15] [12] [Batch loss: 1.76  Batch Acc: 37%]\n",
            "[Epoch 4/15] [13] [Batch loss: 1.77  Batch Acc: 36%]\n",
            "[Epoch 4/15] [14] [Batch loss: 1.51  Batch Acc: 50%]\n",
            "[Epoch 4/15] [15] [Batch loss: 1.54  Batch Acc: 46%]\n",
            "[Epoch 4/15] [16] [Batch loss: 1.43  Batch Acc: 51%]\n",
            "[Epoch 4/15] [17] [Batch loss: 1.62  Batch Acc: 37%]\n",
            "[Epoch 4/15] [18] [Batch loss: 1.71  Batch Acc: 37%]\n",
            "[Epoch 4/15] [19] [Batch loss: 1.63  Batch Acc: 40%]\n",
            "[Epoch 4/15] [20] [Batch loss: 1.89  Batch Acc: 41%]\n",
            "[Epoch 4/15] [21] [Batch loss: 1.72  Batch Acc: 43%]\n",
            "[Epoch 4/15] [22] [Batch loss: 1.59  Batch Acc: 40%]\n",
            "[Epoch 4/15] [23] [Batch loss: 1.47  Batch Acc: 56%]\n",
            "[Epoch 4/15] [24] [Batch loss: 1.65  Batch Acc: 46%]\n",
            "[Epoch 4/15] [25] [Batch loss: 1.50  Batch Acc: 54%]\n",
            "[Epoch 4/15] [26] [Batch loss: 1.47  Batch Acc: 50%]\n",
            "[Epoch 4/15] [27] [Batch loss: 1.70  Batch Acc: 34%]\n",
            "[Epoch 4/15] [28] [Batch loss: 1.48  Batch Acc: 46%]\n",
            "[Epoch 4/15] [29] [Batch loss: 1.55  Batch Acc: 50%]\n",
            "[Epoch 4/15] [30] [Batch loss: 1.58  Batch Acc: 41%]\n",
            "[Epoch 4/15] [31] [Batch loss: 1.44  Batch Acc: 50%]\n",
            "[Epoch 4/15] [32] [Batch loss: 1.65  Batch Acc: 36%]\n",
            "[Epoch 4/15] [33] [Batch loss: 1.64  Batch Acc: 41%]\n",
            "[Epoch 4/15] [34] [Batch loss: 1.70  Batch Acc: 37%]\n",
            "[Epoch 4/15] [35] [Batch loss: 1.41  Batch Acc: 60%]\n",
            "[Epoch 4/15] [36] [Batch loss: 1.62  Batch Acc: 31%]\n",
            "[Epoch 4/15] [37] [Batch loss: 1.81  Batch Acc: 37%]\n",
            "[Epoch 4/15] [38] [Batch loss: 1.78  Batch Acc: 18%]\n",
            "Epoch 4 Training Accuracy: 43.69%\n",
            "[Epoch 4/15] [Training Loss: 43%  Validation Loss: 39%] \n",
            "[Epoch 5/15] [1] [Batch loss: 1.79  Batch Acc: 36%]\n",
            "[Epoch 5/15] [2] [Batch loss: 1.71  Batch Acc: 37%]\n",
            "[Epoch 5/15] [3] [Batch loss: 1.68  Batch Acc: 41%]\n",
            "[Epoch 5/15] [4] [Batch loss: 1.32  Batch Acc: 47%]\n",
            "[Epoch 5/15] [5] [Batch loss: 1.41  Batch Acc: 46%]\n",
            "[Epoch 5/15] [6] [Batch loss: 1.63  Batch Acc: 47%]\n",
            "[Epoch 5/15] [7] [Batch loss: 1.42  Batch Acc: 51%]\n",
            "[Epoch 5/15] [8] [Batch loss: 1.62  Batch Acc: 31%]\n",
            "[Epoch 5/15] [9] [Batch loss: 1.35  Batch Acc: 54%]\n",
            "[Epoch 5/15] [10] [Batch loss: 1.79  Batch Acc: 46%]\n",
            "[Epoch 5/15] [11] [Batch loss: 1.42  Batch Acc: 51%]\n",
            "[Epoch 5/15] [12] [Batch loss: 1.67  Batch Acc: 37%]\n",
            "[Epoch 5/15] [13] [Batch loss: 1.61  Batch Acc: 46%]\n",
            "[Epoch 5/15] [14] [Batch loss: 1.61  Batch Acc: 43%]\n",
            "[Epoch 5/15] [15] [Batch loss: 1.74  Batch Acc: 40%]\n",
            "[Epoch 5/15] [16] [Batch loss: 1.59  Batch Acc: 50%]\n",
            "[Epoch 5/15] [17] [Batch loss: 1.39  Batch Acc: 60%]\n",
            "[Epoch 5/15] [18] [Batch loss: 1.79  Batch Acc: 31%]\n",
            "[Epoch 5/15] [19] [Batch loss: 1.52  Batch Acc: 43%]\n",
            "[Epoch 5/15] [20] [Batch loss: 1.44  Batch Acc: 40%]\n",
            "[Epoch 5/15] [21] [Batch loss: 1.19  Batch Acc: 66%]\n",
            "[Epoch 5/15] [22] [Batch loss: 1.62  Batch Acc: 50%]\n",
            "[Epoch 5/15] [23] [Batch loss: 1.78  Batch Acc: 40%]\n",
            "[Epoch 5/15] [24] [Batch loss: 1.54  Batch Acc: 54%]\n",
            "[Epoch 5/15] [25] [Batch loss: 1.43  Batch Acc: 41%]\n",
            "[Epoch 5/15] [26] [Batch loss: 1.56  Batch Acc: 40%]\n",
            "[Epoch 5/15] [27] [Batch loss: 1.52  Batch Acc: 47%]\n",
            "[Epoch 5/15] [28] [Batch loss: 1.51  Batch Acc: 34%]\n",
            "[Epoch 5/15] [29] [Batch loss: 1.69  Batch Acc: 34%]\n",
            "[Epoch 5/15] [30] [Batch loss: 1.63  Batch Acc: 46%]\n",
            "[Epoch 5/15] [31] [Batch loss: 1.56  Batch Acc: 54%]\n",
            "[Epoch 5/15] [32] [Batch loss: 1.58  Batch Acc: 46%]\n",
            "[Epoch 5/15] [33] [Batch loss: 1.55  Batch Acc: 46%]\n",
            "[Epoch 5/15] [34] [Batch loss: 1.58  Batch Acc: 46%]\n",
            "[Epoch 5/15] [35] [Batch loss: 1.63  Batch Acc: 47%]\n",
            "[Epoch 5/15] [36] [Batch loss: 1.44  Batch Acc: 54%]\n",
            "[Epoch 5/15] [37] [Batch loss: 1.44  Batch Acc: 54%]\n",
            "[Epoch 5/15] [38] [Batch loss: 1.12  Batch Acc: 63%]\n",
            "Epoch 5 Training Accuracy: 45.78%\n",
            "[Epoch 5/15] [Training Loss: 45%  Validation Loss: 41%] \n",
            "[Epoch 6/15] [1] [Batch loss: 1.39  Batch Acc: 47%]\n",
            "[Epoch 6/15] [2] [Batch loss: 1.75  Batch Acc: 34%]\n",
            "[Epoch 6/15] [3] [Batch loss: 1.40  Batch Acc: 47%]\n",
            "[Epoch 6/15] [4] [Batch loss: 1.59  Batch Acc: 40%]\n",
            "[Epoch 6/15] [5] [Batch loss: 1.46  Batch Acc: 50%]\n",
            "[Epoch 6/15] [6] [Batch loss: 1.51  Batch Acc: 51%]\n",
            "[Epoch 6/15] [7] [Batch loss: 1.44  Batch Acc: 51%]\n",
            "[Epoch 6/15] [8] [Batch loss: 1.57  Batch Acc: 43%]\n",
            "[Epoch 6/15] [9] [Batch loss: 1.60  Batch Acc: 41%]\n",
            "[Epoch 6/15] [10] [Batch loss: 1.73  Batch Acc: 37%]\n",
            "[Epoch 6/15] [11] [Batch loss: 1.41  Batch Acc: 51%]\n",
            "[Epoch 6/15] [12] [Batch loss: 1.36  Batch Acc: 46%]\n",
            "[Epoch 6/15] [13] [Batch loss: 1.37  Batch Acc: 50%]\n",
            "[Epoch 6/15] [14] [Batch loss: 1.31  Batch Acc: 51%]\n",
            "[Epoch 6/15] [15] [Batch loss: 1.39  Batch Acc: 51%]\n",
            "[Epoch 6/15] [16] [Batch loss: 1.37  Batch Acc: 46%]\n",
            "[Epoch 6/15] [17] [Batch loss: 1.57  Batch Acc: 41%]\n",
            "[Epoch 6/15] [18] [Batch loss: 1.47  Batch Acc: 41%]\n",
            "[Epoch 6/15] [19] [Batch loss: 1.53  Batch Acc: 40%]\n",
            "[Epoch 6/15] [20] [Batch loss: 1.54  Batch Acc: 43%]\n",
            "[Epoch 6/15] [21] [Batch loss: 1.67  Batch Acc: 40%]\n",
            "[Epoch 6/15] [22] [Batch loss: 1.65  Batch Acc: 50%]\n",
            "[Epoch 6/15] [23] [Batch loss: 1.30  Batch Acc: 54%]\n",
            "[Epoch 6/15] [24] [Batch loss: 1.74  Batch Acc: 46%]\n",
            "[Epoch 6/15] [25] [Batch loss: 1.42  Batch Acc: 56%]\n",
            "[Epoch 6/15] [26] [Batch loss: 1.39  Batch Acc: 50%]\n",
            "[Epoch 6/15] [27] [Batch loss: 1.63  Batch Acc: 46%]\n",
            "[Epoch 6/15] [28] [Batch loss: 1.43  Batch Acc: 41%]\n",
            "[Epoch 6/15] [29] [Batch loss: 1.44  Batch Acc: 47%]\n",
            "[Epoch 6/15] [30] [Batch loss: 1.61  Batch Acc: 47%]\n",
            "[Epoch 6/15] [31] [Batch loss: 1.60  Batch Acc: 43%]\n",
            "[Epoch 6/15] [32] [Batch loss: 1.57  Batch Acc: 46%]\n",
            "[Epoch 6/15] [33] [Batch loss: 1.59  Batch Acc: 51%]\n",
            "[Epoch 6/15] [34] [Batch loss: 1.24  Batch Acc: 54%]\n",
            "[Epoch 6/15] [35] [Batch loss: 1.58  Batch Acc: 37%]\n",
            "[Epoch 6/15] [36] [Batch loss: 1.43  Batch Acc: 54%]\n",
            "[Epoch 6/15] [37] [Batch loss: 1.51  Batch Acc: 40%]\n",
            "[Epoch 6/15] [38] [Batch loss: 1.58  Batch Acc: 36%]\n",
            "Epoch 6 Training Accuracy: 46.48%\n",
            "[Epoch 6/15] [Training Loss: 46%  Validation Loss: 39%] \n",
            "[Epoch 7/15] [1] [Batch loss: 1.52  Batch Acc: 47%]\n",
            "[Epoch 7/15] [2] [Batch loss: 1.42  Batch Acc: 50%]\n",
            "[Epoch 7/15] [3] [Batch loss: 1.34  Batch Acc: 51%]\n",
            "[Epoch 7/15] [4] [Batch loss: 1.43  Batch Acc: 54%]\n",
            "[Epoch 7/15] [5] [Batch loss: 1.45  Batch Acc: 57%]\n",
            "[Epoch 7/15] [6] [Batch loss: 1.47  Batch Acc: 47%]\n",
            "[Epoch 7/15] [7] [Batch loss: 1.37  Batch Acc: 50%]\n",
            "[Epoch 7/15] [8] [Batch loss: 1.37  Batch Acc: 51%]\n",
            "[Epoch 7/15] [9] [Batch loss: 1.39  Batch Acc: 50%]\n",
            "[Epoch 7/15] [10] [Batch loss: 1.34  Batch Acc: 46%]\n",
            "[Epoch 7/15] [11] [Batch loss: 1.51  Batch Acc: 41%]\n",
            "[Epoch 7/15] [12] [Batch loss: 1.54  Batch Acc: 46%]\n",
            "[Epoch 7/15] [13] [Batch loss: 1.52  Batch Acc: 47%]\n",
            "[Epoch 7/15] [14] [Batch loss: 1.39  Batch Acc: 56%]\n",
            "[Epoch 7/15] [15] [Batch loss: 1.61  Batch Acc: 50%]\n",
            "[Epoch 7/15] [16] [Batch loss: 1.51  Batch Acc: 50%]\n",
            "[Epoch 7/15] [17] [Batch loss: 1.22  Batch Acc: 62%]\n",
            "[Epoch 7/15] [18] [Batch loss: 1.41  Batch Acc: 54%]\n",
            "[Epoch 7/15] [19] [Batch loss: 1.51  Batch Acc: 41%]\n",
            "[Epoch 7/15] [20] [Batch loss: 1.57  Batch Acc: 41%]\n",
            "[Epoch 7/15] [21] [Batch loss: 1.47  Batch Acc: 47%]\n",
            "[Epoch 7/15] [22] [Batch loss: 1.53  Batch Acc: 51%]\n",
            "[Epoch 7/15] [23] [Batch loss: 1.33  Batch Acc: 56%]\n",
            "[Epoch 7/15] [24] [Batch loss: 1.50  Batch Acc: 50%]\n",
            "[Epoch 7/15] [25] [Batch loss: 1.38  Batch Acc: 54%]\n",
            "[Epoch 7/15] [26] [Batch loss: 1.41  Batch Acc: 51%]\n",
            "[Epoch 7/15] [27] [Batch loss: 1.80  Batch Acc: 31%]\n",
            "[Epoch 7/15] [28] [Batch loss: 1.34  Batch Acc: 57%]\n",
            "[Epoch 7/15] [29] [Batch loss: 1.55  Batch Acc: 41%]\n",
            "[Epoch 7/15] [30] [Batch loss: 1.68  Batch Acc: 50%]\n",
            "[Epoch 7/15] [31] [Batch loss: 1.10  Batch Acc: 68%]\n",
            "[Epoch 7/15] [32] [Batch loss: 1.37  Batch Acc: 54%]\n",
            "[Epoch 7/15] [33] [Batch loss: 1.49  Batch Acc: 37%]\n",
            "[Epoch 7/15] [34] [Batch loss: 1.36  Batch Acc: 54%]\n",
            "[Epoch 7/15] [35] [Batch loss: 1.41  Batch Acc: 50%]\n",
            "[Epoch 7/15] [36] [Batch loss: 1.61  Batch Acc: 36%]\n",
            "[Epoch 7/15] [37] [Batch loss: 1.17  Batch Acc: 60%]\n",
            "[Epoch 7/15] [38] [Batch loss: 1.27  Batch Acc: 54%]\n",
            "Epoch 7 Training Accuracy: 50.13%\n",
            "[Epoch 7/15] [Training Loss: 50%  Validation Loss: 37%] \n",
            "[Epoch 8/15] [1] [Batch loss: 1.40  Batch Acc: 50%]\n",
            "[Epoch 8/15] [2] [Batch loss: 1.15  Batch Acc: 57%]\n",
            "[Epoch 8/15] [3] [Batch loss: 1.16  Batch Acc: 57%]\n",
            "[Epoch 8/15] [4] [Batch loss: 1.48  Batch Acc: 54%]\n",
            "[Epoch 8/15] [5] [Batch loss: 1.51  Batch Acc: 56%]\n",
            "[Epoch 8/15] [6] [Batch loss: 1.39  Batch Acc: 47%]\n",
            "[Epoch 8/15] [7] [Batch loss: 1.33  Batch Acc: 46%]\n",
            "[Epoch 8/15] [8] [Batch loss: 1.13  Batch Acc: 60%]\n",
            "[Epoch 8/15] [9] [Batch loss: 1.48  Batch Acc: 40%]\n",
            "[Epoch 8/15] [10] [Batch loss: 1.46  Batch Acc: 51%]\n",
            "[Epoch 8/15] [11] [Batch loss: 1.27  Batch Acc: 60%]\n",
            "[Epoch 8/15] [12] [Batch loss: 1.61  Batch Acc: 50%]\n",
            "[Epoch 8/15] [13] [Batch loss: 1.42  Batch Acc: 54%]\n",
            "[Epoch 8/15] [14] [Batch loss: 1.40  Batch Acc: 57%]\n",
            "[Epoch 8/15] [15] [Batch loss: 1.59  Batch Acc: 51%]\n",
            "[Epoch 8/15] [16] [Batch loss: 1.40  Batch Acc: 51%]\n",
            "[Epoch 8/15] [17] [Batch loss: 1.35  Batch Acc: 63%]\n",
            "[Epoch 8/15] [18] [Batch loss: 1.40  Batch Acc: 57%]\n",
            "[Epoch 8/15] [19] [Batch loss: 1.36  Batch Acc: 51%]\n",
            "[Epoch 8/15] [20] [Batch loss: 1.33  Batch Acc: 47%]\n",
            "[Epoch 8/15] [21] [Batch loss: 1.42  Batch Acc: 47%]\n",
            "[Epoch 8/15] [22] [Batch loss: 1.55  Batch Acc: 46%]\n",
            "[Epoch 8/15] [23] [Batch loss: 1.65  Batch Acc: 43%]\n",
            "[Epoch 8/15] [24] [Batch loss: 1.39  Batch Acc: 54%]\n",
            "[Epoch 8/15] [25] [Batch loss: 1.40  Batch Acc: 46%]\n",
            "[Epoch 8/15] [26] [Batch loss: 1.39  Batch Acc: 51%]\n",
            "[Epoch 8/15] [27] [Batch loss: 1.36  Batch Acc: 56%]\n",
            "[Epoch 8/15] [28] [Batch loss: 1.30  Batch Acc: 47%]\n",
            "[Epoch 8/15] [29] [Batch loss: 1.50  Batch Acc: 36%]\n",
            "[Epoch 8/15] [30] [Batch loss: 1.25  Batch Acc: 57%]\n",
            "[Epoch 8/15] [31] [Batch loss: 1.34  Batch Acc: 57%]\n",
            "[Epoch 8/15] [32] [Batch loss: 1.68  Batch Acc: 47%]\n",
            "[Epoch 8/15] [33] [Batch loss: 1.47  Batch Acc: 51%]\n",
            "[Epoch 8/15] [34] [Batch loss: 1.50  Batch Acc: 47%]\n",
            "[Epoch 8/15] [35] [Batch loss: 1.71  Batch Acc: 51%]\n",
            "[Epoch 8/15] [36] [Batch loss: 1.42  Batch Acc: 51%]\n",
            "[Epoch 8/15] [37] [Batch loss: 1.34  Batch Acc: 56%]\n",
            "[Epoch 8/15] [38] [Batch loss: 1.03  Batch Acc: 54%]\n",
            "Epoch 8 Training Accuracy: 52.02%\n",
            "[Epoch 8/15] [Training Loss: 52%  Validation Loss: 37%] \n",
            "[Epoch 9/15] [1] [Batch loss: 1.32  Batch Acc: 63%]\n",
            "[Epoch 9/15] [2] [Batch loss: 1.37  Batch Acc: 54%]\n",
            "[Epoch 9/15] [3] [Batch loss: 1.18  Batch Acc: 62%]\n",
            "[Epoch 9/15] [4] [Batch loss: 1.39  Batch Acc: 46%]\n",
            "[Epoch 9/15] [5] [Batch loss: 1.32  Batch Acc: 56%]\n",
            "[Epoch 9/15] [6] [Batch loss: 1.27  Batch Acc: 57%]\n",
            "[Epoch 9/15] [7] [Batch loss: 1.30  Batch Acc: 47%]\n",
            "[Epoch 9/15] [8] [Batch loss: 1.08  Batch Acc: 63%]\n",
            "[Epoch 9/15] [9] [Batch loss: 1.34  Batch Acc: 43%]\n",
            "[Epoch 9/15] [10] [Batch loss: 1.21  Batch Acc: 60%]\n",
            "[Epoch 9/15] [11] [Batch loss: 1.46  Batch Acc: 51%]\n",
            "[Epoch 9/15] [12] [Batch loss: 1.15  Batch Acc: 56%]\n",
            "[Epoch 9/15] [13] [Batch loss: 1.26  Batch Acc: 60%]\n",
            "[Epoch 9/15] [14] [Batch loss: 1.47  Batch Acc: 56%]\n",
            "[Epoch 9/15] [15] [Batch loss: 1.26  Batch Acc: 62%]\n",
            "[Epoch 9/15] [16] [Batch loss: 1.58  Batch Acc: 43%]\n",
            "[Epoch 9/15] [17] [Batch loss: 1.17  Batch Acc: 56%]\n",
            "[Epoch 9/15] [18] [Batch loss: 1.20  Batch Acc: 54%]\n",
            "[Epoch 9/15] [19] [Batch loss: 1.04  Batch Acc: 68%]\n",
            "[Epoch 9/15] [20] [Batch loss: 1.00  Batch Acc: 60%]\n",
            "[Epoch 9/15] [21] [Batch loss: 1.12  Batch Acc: 63%]\n",
            "[Epoch 9/15] [22] [Batch loss: 1.45  Batch Acc: 43%]\n",
            "[Epoch 9/15] [23] [Batch loss: 1.23  Batch Acc: 56%]\n",
            "[Epoch 9/15] [24] [Batch loss: 1.30  Batch Acc: 56%]\n",
            "[Epoch 9/15] [25] [Batch loss: 1.37  Batch Acc: 56%]\n",
            "[Epoch 9/15] [26] [Batch loss: 1.25  Batch Acc: 51%]\n",
            "[Epoch 9/15] [27] [Batch loss: 1.43  Batch Acc: 50%]\n",
            "[Epoch 9/15] [28] [Batch loss: 1.28  Batch Acc: 50%]\n",
            "[Epoch 9/15] [29] [Batch loss: 1.34  Batch Acc: 46%]\n",
            "[Epoch 9/15] [30] [Batch loss: 1.55  Batch Acc: 43%]\n",
            "[Epoch 9/15] [31] [Batch loss: 1.28  Batch Acc: 54%]\n",
            "[Epoch 9/15] [32] [Batch loss: 1.69  Batch Acc: 50%]\n",
            "[Epoch 9/15] [33] [Batch loss: 1.20  Batch Acc: 60%]\n",
            "[Epoch 9/15] [34] [Batch loss: 1.48  Batch Acc: 46%]\n",
            "[Epoch 9/15] [35] [Batch loss: 1.42  Batch Acc: 51%]\n",
            "[Epoch 9/15] [36] [Batch loss: 1.57  Batch Acc: 54%]\n",
            "[Epoch 9/15] [37] [Batch loss: 1.27  Batch Acc: 56%]\n",
            "[Epoch 9/15] [38] [Batch loss: 0.97  Batch Acc: 54%]\n",
            "Epoch 9 Training Accuracy: 54.43%\n",
            "[Epoch 9/15] [Training Loss: 54%  Validation Loss: 36%] \n",
            "[Epoch 10/15] [1] [Batch loss: 1.35  Batch Acc: 56%]\n",
            "[Epoch 10/15] [2] [Batch loss: 1.25  Batch Acc: 50%]\n",
            "[Epoch 10/15] [3] [Batch loss: 1.10  Batch Acc: 63%]\n",
            "[Epoch 10/15] [4] [Batch loss: 1.17  Batch Acc: 54%]\n",
            "[Epoch 10/15] [5] [Batch loss: 1.28  Batch Acc: 56%]\n",
            "[Epoch 10/15] [6] [Batch loss: 1.55  Batch Acc: 54%]\n",
            "[Epoch 10/15] [7] [Batch loss: 1.04  Batch Acc: 68%]\n",
            "[Epoch 10/15] [8] [Batch loss: 1.18  Batch Acc: 60%]\n",
            "[Epoch 10/15] [9] [Batch loss: 1.41  Batch Acc: 50%]\n",
            "[Epoch 10/15] [10] [Batch loss: 1.30  Batch Acc: 56%]\n",
            "[Epoch 10/15] [11] [Batch loss: 1.60  Batch Acc: 47%]\n",
            "[Epoch 10/15] [12] [Batch loss: 1.28  Batch Acc: 56%]\n",
            "[Epoch 10/15] [13] [Batch loss: 1.44  Batch Acc: 40%]\n",
            "[Epoch 10/15] [14] [Batch loss: 1.22  Batch Acc: 46%]\n",
            "[Epoch 10/15] [15] [Batch loss: 1.15  Batch Acc: 57%]\n",
            "[Epoch 10/15] [16] [Batch loss: 1.05  Batch Acc: 68%]\n",
            "[Epoch 10/15] [17] [Batch loss: 1.38  Batch Acc: 57%]\n",
            "[Epoch 10/15] [18] [Batch loss: 1.24  Batch Acc: 50%]\n",
            "[Epoch 10/15] [19] [Batch loss: 1.15  Batch Acc: 60%]\n",
            "[Epoch 10/15] [20] [Batch loss: 1.39  Batch Acc: 47%]\n",
            "[Epoch 10/15] [21] [Batch loss: 1.07  Batch Acc: 63%]\n",
            "[Epoch 10/15] [22] [Batch loss: 1.27  Batch Acc: 56%]\n",
            "[Epoch 10/15] [23] [Batch loss: 1.51  Batch Acc: 50%]\n",
            "[Epoch 10/15] [24] [Batch loss: 1.27  Batch Acc: 51%]\n",
            "[Epoch 10/15] [25] [Batch loss: 1.20  Batch Acc: 56%]\n",
            "[Epoch 10/15] [26] [Batch loss: 1.11  Batch Acc: 60%]\n",
            "[Epoch 10/15] [27] [Batch loss: 1.43  Batch Acc: 54%]\n",
            "[Epoch 10/15] [28] [Batch loss: 1.20  Batch Acc: 51%]\n",
            "[Epoch 10/15] [29] [Batch loss: 1.55  Batch Acc: 54%]\n",
            "[Epoch 10/15] [30] [Batch loss: 0.98  Batch Acc: 68%]\n",
            "[Epoch 10/15] [31] [Batch loss: 1.40  Batch Acc: 56%]\n",
            "[Epoch 10/15] [32] [Batch loss: 1.04  Batch Acc: 62%]\n",
            "[Epoch 10/15] [33] [Batch loss: 1.25  Batch Acc: 57%]\n",
            "[Epoch 10/15] [34] [Batch loss: 1.19  Batch Acc: 63%]\n",
            "[Epoch 10/15] [35] [Batch loss: 1.08  Batch Acc: 57%]\n",
            "[Epoch 10/15] [36] [Batch loss: 1.06  Batch Acc: 68%]\n",
            "[Epoch 10/15] [37] [Batch loss: 1.45  Batch Acc: 40%]\n",
            "[Epoch 10/15] [38] [Batch loss: 1.63  Batch Acc: 45%]\n",
            "Epoch 10 Training Accuracy: 55.94%\n",
            "[Epoch 10/15] [Training Loss: 55%  Validation Loss: 41%] \n",
            "[Epoch 11/15] [1] [Batch loss: 1.09  Batch Acc: 62%]\n",
            "[Epoch 11/15] [2] [Batch loss: 1.15  Batch Acc: 68%]\n",
            "[Epoch 11/15] [3] [Batch loss: 1.52  Batch Acc: 41%]\n",
            "[Epoch 11/15] [4] [Batch loss: 1.31  Batch Acc: 54%]\n",
            "[Epoch 11/15] [5] [Batch loss: 1.29  Batch Acc: 54%]\n",
            "[Epoch 11/15] [6] [Batch loss: 1.14  Batch Acc: 66%]\n",
            "[Epoch 11/15] [7] [Batch loss: 1.36  Batch Acc: 56%]\n",
            "[Epoch 11/15] [8] [Batch loss: 1.23  Batch Acc: 57%]\n",
            "[Epoch 11/15] [9] [Batch loss: 1.14  Batch Acc: 60%]\n",
            "[Epoch 11/15] [10] [Batch loss: 1.27  Batch Acc: 51%]\n",
            "[Epoch 11/15] [11] [Batch loss: 1.24  Batch Acc: 51%]\n",
            "[Epoch 11/15] [12] [Batch loss: 1.20  Batch Acc: 69%]\n",
            "[Epoch 11/15] [13] [Batch loss: 1.17  Batch Acc: 60%]\n",
            "[Epoch 11/15] [14] [Batch loss: 1.04  Batch Acc: 62%]\n",
            "[Epoch 11/15] [15] [Batch loss: 1.25  Batch Acc: 50%]\n",
            "[Epoch 11/15] [16] [Batch loss: 1.34  Batch Acc: 50%]\n",
            "[Epoch 11/15] [17] [Batch loss: 1.01  Batch Acc: 66%]\n",
            "[Epoch 11/15] [18] [Batch loss: 1.25  Batch Acc: 50%]\n",
            "[Epoch 11/15] [19] [Batch loss: 1.32  Batch Acc: 50%]\n",
            "[Epoch 11/15] [20] [Batch loss: 1.01  Batch Acc: 69%]\n",
            "[Epoch 11/15] [21] [Batch loss: 0.95  Batch Acc: 69%]\n",
            "[Epoch 11/15] [22] [Batch loss: 1.30  Batch Acc: 47%]\n",
            "[Epoch 11/15] [23] [Batch loss: 1.25  Batch Acc: 56%]\n",
            "[Epoch 11/15] [24] [Batch loss: 1.37  Batch Acc: 54%]\n",
            "[Epoch 11/15] [25] [Batch loss: 1.16  Batch Acc: 63%]\n",
            "[Epoch 11/15] [26] [Batch loss: 0.85  Batch Acc: 74%]\n",
            "[Epoch 11/15] [27] [Batch loss: 1.41  Batch Acc: 46%]\n",
            "[Epoch 11/15] [28] [Batch loss: 1.20  Batch Acc: 60%]\n",
            "[Epoch 11/15] [29] [Batch loss: 1.29  Batch Acc: 50%]\n",
            "[Epoch 11/15] [30] [Batch loss: 1.27  Batch Acc: 60%]\n",
            "[Epoch 11/15] [31] [Batch loss: 1.16  Batch Acc: 57%]\n",
            "[Epoch 11/15] [32] [Batch loss: 1.14  Batch Acc: 63%]\n",
            "[Epoch 11/15] [33] [Batch loss: 1.29  Batch Acc: 66%]\n",
            "[Epoch 11/15] [34] [Batch loss: 1.10  Batch Acc: 56%]\n",
            "[Epoch 11/15] [35] [Batch loss: 1.19  Batch Acc: 60%]\n",
            "[Epoch 11/15] [36] [Batch loss: 1.17  Batch Acc: 68%]\n",
            "[Epoch 11/15] [37] [Batch loss: 1.35  Batch Acc: 41%]\n",
            "[Epoch 11/15] [38] [Batch loss: 0.77  Batch Acc: 90%]\n",
            "Epoch 11 Training Accuracy: 58.25%\n",
            "[Epoch 11/15] [Training Loss: 58%  Validation Loss: 35%] \n",
            "[Epoch 12/15] [1] [Batch loss: 1.16  Batch Acc: 60%]\n",
            "[Epoch 12/15] [2] [Batch loss: 1.18  Batch Acc: 57%]\n",
            "[Epoch 12/15] [3] [Batch loss: 1.40  Batch Acc: 51%]\n",
            "[Epoch 12/15] [4] [Batch loss: 1.13  Batch Acc: 68%]\n",
            "[Epoch 12/15] [5] [Batch loss: 1.27  Batch Acc: 50%]\n",
            "[Epoch 12/15] [6] [Batch loss: 1.09  Batch Acc: 62%]\n",
            "[Epoch 12/15] [7] [Batch loss: 1.49  Batch Acc: 57%]\n",
            "[Epoch 12/15] [8] [Batch loss: 1.25  Batch Acc: 57%]\n",
            "[Epoch 12/15] [9] [Batch loss: 1.18  Batch Acc: 54%]\n",
            "[Epoch 12/15] [10] [Batch loss: 1.34  Batch Acc: 54%]\n",
            "[Epoch 12/15] [11] [Batch loss: 1.07  Batch Acc: 57%]\n",
            "[Epoch 12/15] [12] [Batch loss: 1.20  Batch Acc: 56%]\n",
            "[Epoch 12/15] [13] [Batch loss: 0.91  Batch Acc: 68%]\n",
            "[Epoch 12/15] [14] [Batch loss: 1.24  Batch Acc: 40%]\n",
            "[Epoch 12/15] [15] [Batch loss: 1.17  Batch Acc: 68%]\n",
            "[Epoch 12/15] [16] [Batch loss: 1.05  Batch Acc: 63%]\n",
            "[Epoch 12/15] [17] [Batch loss: 1.05  Batch Acc: 60%]\n",
            "[Epoch 12/15] [18] [Batch loss: 0.94  Batch Acc: 74%]\n",
            "[Epoch 12/15] [19] [Batch loss: 1.26  Batch Acc: 56%]\n",
            "[Epoch 12/15] [20] [Batch loss: 1.49  Batch Acc: 62%]\n",
            "[Epoch 12/15] [21] [Batch loss: 0.95  Batch Acc: 66%]\n",
            "[Epoch 12/15] [22] [Batch loss: 1.19  Batch Acc: 60%]\n",
            "[Epoch 12/15] [23] [Batch loss: 1.06  Batch Acc: 62%]\n",
            "[Epoch 12/15] [24] [Batch loss: 0.91  Batch Acc: 60%]\n",
            "[Epoch 12/15] [25] [Batch loss: 1.15  Batch Acc: 56%]\n",
            "[Epoch 12/15] [26] [Batch loss: 1.28  Batch Acc: 56%]\n",
            "[Epoch 12/15] [27] [Batch loss: 1.36  Batch Acc: 47%]\n",
            "[Epoch 12/15] [28] [Batch loss: 1.06  Batch Acc: 63%]\n",
            "[Epoch 12/15] [29] [Batch loss: 0.97  Batch Acc: 74%]\n",
            "[Epoch 12/15] [30] [Batch loss: 1.23  Batch Acc: 60%]\n",
            "[Epoch 12/15] [31] [Batch loss: 1.03  Batch Acc: 63%]\n",
            "[Epoch 12/15] [32] [Batch loss: 1.08  Batch Acc: 60%]\n",
            "[Epoch 12/15] [33] [Batch loss: 0.99  Batch Acc: 60%]\n",
            "[Epoch 12/15] [34] [Batch loss: 0.91  Batch Acc: 69%]\n",
            "[Epoch 12/15] [35] [Batch loss: 1.06  Batch Acc: 57%]\n",
            "[Epoch 12/15] [36] [Batch loss: 1.04  Batch Acc: 63%]\n",
            "[Epoch 12/15] [37] [Batch loss: 1.02  Batch Acc: 69%]\n",
            "[Epoch 12/15] [38] [Batch loss: 1.15  Batch Acc: 54%]\n",
            "Epoch 12 Training Accuracy: 60.29%\n",
            "[Epoch 12/15] [Training Loss: 60%  Validation Loss: 38%] \n",
            "[Epoch 13/15] [1] [Batch loss: 1.22  Batch Acc: 57%]\n",
            "[Epoch 13/15] [2] [Batch loss: 1.37  Batch Acc: 50%]\n",
            "[Epoch 13/15] [3] [Batch loss: 1.24  Batch Acc: 50%]\n",
            "[Epoch 13/15] [4] [Batch loss: 1.17  Batch Acc: 62%]\n",
            "[Epoch 13/15] [5] [Batch loss: 1.21  Batch Acc: 66%]\n",
            "[Epoch 13/15] [6] [Batch loss: 1.03  Batch Acc: 60%]\n",
            "[Epoch 13/15] [7] [Batch loss: 0.97  Batch Acc: 66%]\n",
            "[Epoch 13/15] [8] [Batch loss: 0.90  Batch Acc: 63%]\n",
            "[Epoch 13/15] [9] [Batch loss: 0.87  Batch Acc: 75%]\n",
            "[Epoch 13/15] [10] [Batch loss: 0.95  Batch Acc: 66%]\n",
            "[Epoch 13/15] [11] [Batch loss: 0.87  Batch Acc: 69%]\n",
            "[Epoch 13/15] [12] [Batch loss: 1.13  Batch Acc: 69%]\n",
            "[Epoch 13/15] [13] [Batch loss: 1.07  Batch Acc: 57%]\n",
            "[Epoch 13/15] [14] [Batch loss: 0.86  Batch Acc: 68%]\n",
            "[Epoch 13/15] [15] [Batch loss: 0.82  Batch Acc: 77%]\n",
            "[Epoch 13/15] [16] [Batch loss: 0.92  Batch Acc: 68%]\n",
            "[Epoch 13/15] [17] [Batch loss: 1.06  Batch Acc: 62%]\n",
            "[Epoch 13/15] [18] [Batch loss: 1.28  Batch Acc: 50%]\n",
            "[Epoch 13/15] [19] [Batch loss: 1.03  Batch Acc: 63%]\n",
            "[Epoch 13/15] [20] [Batch loss: 1.07  Batch Acc: 63%]\n",
            "[Epoch 13/15] [21] [Batch loss: 1.15  Batch Acc: 69%]\n",
            "[Epoch 13/15] [22] [Batch loss: 1.30  Batch Acc: 57%]\n",
            "[Epoch 13/15] [23] [Batch loss: 1.12  Batch Acc: 62%]\n",
            "[Epoch 13/15] [24] [Batch loss: 1.17  Batch Acc: 56%]\n",
            "[Epoch 13/15] [25] [Batch loss: 1.48  Batch Acc: 41%]\n",
            "[Epoch 13/15] [26] [Batch loss: 1.11  Batch Acc: 54%]\n",
            "[Epoch 13/15] [27] [Batch loss: 1.07  Batch Acc: 68%]\n",
            "[Epoch 13/15] [28] [Batch loss: 1.00  Batch Acc: 60%]\n",
            "[Epoch 13/15] [29] [Batch loss: 1.07  Batch Acc: 54%]\n",
            "[Epoch 13/15] [30] [Batch loss: 1.15  Batch Acc: 54%]\n",
            "[Epoch 13/15] [31] [Batch loss: 1.01  Batch Acc: 62%]\n",
            "[Epoch 13/15] [32] [Batch loss: 1.36  Batch Acc: 57%]\n",
            "[Epoch 13/15] [33] [Batch loss: 1.12  Batch Acc: 56%]\n",
            "[Epoch 13/15] [34] [Batch loss: 1.17  Batch Acc: 60%]\n",
            "[Epoch 13/15] [35] [Batch loss: 0.94  Batch Acc: 66%]\n",
            "[Epoch 13/15] [36] [Batch loss: 1.02  Batch Acc: 72%]\n",
            "[Epoch 13/15] [37] [Batch loss: 1.02  Batch Acc: 62%]\n",
            "[Epoch 13/15] [38] [Batch loss: 0.60  Batch Acc: 72%]\n",
            "Epoch 13 Training Accuracy: 61.79%\n",
            "[Epoch 13/15] [Training Loss: 61%  Validation Loss: 37%] \n",
            "[Epoch 14/15] [1] [Batch loss: 0.84  Batch Acc: 74%]\n",
            "[Epoch 14/15] [2] [Batch loss: 1.15  Batch Acc: 57%]\n",
            "[Epoch 14/15] [3] [Batch loss: 0.72  Batch Acc: 72%]\n",
            "[Epoch 14/15] [4] [Batch loss: 0.93  Batch Acc: 68%]\n",
            "[Epoch 14/15] [5] [Batch loss: 0.97  Batch Acc: 62%]\n",
            "[Epoch 14/15] [6] [Batch loss: 1.23  Batch Acc: 60%]\n",
            "[Epoch 14/15] [7] [Batch loss: 1.23  Batch Acc: 54%]\n",
            "[Epoch 14/15] [8] [Batch loss: 0.96  Batch Acc: 62%]\n",
            "[Epoch 14/15] [9] [Batch loss: 1.30  Batch Acc: 54%]\n",
            "[Epoch 14/15] [10] [Batch loss: 1.02  Batch Acc: 63%]\n",
            "[Epoch 14/15] [11] [Batch loss: 0.96  Batch Acc: 68%]\n",
            "[Epoch 14/15] [12] [Batch loss: 1.25  Batch Acc: 57%]\n",
            "[Epoch 14/15] [13] [Batch loss: 0.79  Batch Acc: 81%]\n",
            "[Epoch 14/15] [14] [Batch loss: 1.21  Batch Acc: 56%]\n",
            "[Epoch 14/15] [15] [Batch loss: 0.96  Batch Acc: 66%]\n",
            "[Epoch 14/15] [16] [Batch loss: 1.13  Batch Acc: 60%]\n",
            "[Epoch 14/15] [17] [Batch loss: 0.81  Batch Acc: 75%]\n",
            "[Epoch 14/15] [18] [Batch loss: 0.95  Batch Acc: 69%]\n",
            "[Epoch 14/15] [19] [Batch loss: 1.10  Batch Acc: 60%]\n",
            "[Epoch 14/15] [20] [Batch loss: 0.94  Batch Acc: 63%]\n",
            "[Epoch 14/15] [21] [Batch loss: 1.18  Batch Acc: 54%]\n",
            "[Epoch 14/15] [22] [Batch loss: 0.95  Batch Acc: 63%]\n",
            "[Epoch 14/15] [23] [Batch loss: 0.98  Batch Acc: 68%]\n",
            "[Epoch 14/15] [24] [Batch loss: 0.98  Batch Acc: 63%]\n",
            "[Epoch 14/15] [25] [Batch loss: 1.33  Batch Acc: 51%]\n",
            "[Epoch 14/15] [26] [Batch loss: 0.95  Batch Acc: 72%]\n",
            "[Epoch 14/15] [27] [Batch loss: 1.12  Batch Acc: 62%]\n",
            "[Epoch 14/15] [28] [Batch loss: 0.99  Batch Acc: 62%]\n",
            "[Epoch 14/15] [29] [Batch loss: 0.96  Batch Acc: 68%]\n",
            "[Epoch 14/15] [30] [Batch loss: 1.60  Batch Acc: 50%]\n",
            "[Epoch 14/15] [31] [Batch loss: 0.75  Batch Acc: 75%]\n",
            "[Epoch 14/15] [32] [Batch loss: 1.18  Batch Acc: 60%]\n",
            "[Epoch 14/15] [33] [Batch loss: 1.12  Batch Acc: 56%]\n",
            "[Epoch 14/15] [34] [Batch loss: 0.99  Batch Acc: 66%]\n",
            "[Epoch 14/15] [35] [Batch loss: 1.19  Batch Acc: 60%]\n",
            "[Epoch 14/15] [36] [Batch loss: 1.02  Batch Acc: 68%]\n",
            "[Epoch 14/15] [37] [Batch loss: 1.22  Batch Acc: 56%]\n",
            "[Epoch 14/15] [38] [Batch loss: 0.51  Batch Acc: 90%]\n",
            "Epoch 14 Training Accuracy: 63.57%\n",
            "[Epoch 14/15] [Training Loss: 63%  Validation Loss: 37%] \n",
            "[Epoch 15/15] [1] [Batch loss: 1.02  Batch Acc: 54%]\n",
            "[Epoch 15/15] [2] [Batch loss: 0.99  Batch Acc: 69%]\n",
            "[Epoch 15/15] [3] [Batch loss: 1.14  Batch Acc: 62%]\n",
            "[Epoch 15/15] [4] [Batch loss: 0.92  Batch Acc: 74%]\n",
            "[Epoch 15/15] [5] [Batch loss: 1.10  Batch Acc: 56%]\n",
            "[Epoch 15/15] [6] [Batch loss: 0.90  Batch Acc: 77%]\n",
            "[Epoch 15/15] [7] [Batch loss: 1.01  Batch Acc: 69%]\n",
            "[Epoch 15/15] [8] [Batch loss: 0.77  Batch Acc: 69%]\n",
            "[Epoch 15/15] [9] [Batch loss: 0.99  Batch Acc: 62%]\n",
            "[Epoch 15/15] [10] [Batch loss: 0.92  Batch Acc: 63%]\n",
            "[Epoch 15/15] [11] [Batch loss: 0.92  Batch Acc: 69%]\n",
            "[Epoch 15/15] [12] [Batch loss: 0.85  Batch Acc: 72%]\n",
            "[Epoch 15/15] [13] [Batch loss: 1.01  Batch Acc: 63%]\n",
            "[Epoch 15/15] [14] [Batch loss: 0.93  Batch Acc: 69%]\n",
            "[Epoch 15/15] [15] [Batch loss: 0.98  Batch Acc: 60%]\n",
            "[Epoch 15/15] [16] [Batch loss: 1.04  Batch Acc: 66%]\n",
            "[Epoch 15/15] [17] [Batch loss: 0.94  Batch Acc: 74%]\n",
            "[Epoch 15/15] [18] [Batch loss: 0.76  Batch Acc: 72%]\n",
            "[Epoch 15/15] [19] [Batch loss: 1.14  Batch Acc: 56%]\n",
            "[Epoch 15/15] [20] [Batch loss: 0.86  Batch Acc: 69%]\n",
            "[Epoch 15/15] [21] [Batch loss: 1.01  Batch Acc: 66%]\n",
            "[Epoch 15/15] [22] [Batch loss: 0.85  Batch Acc: 63%]\n",
            "[Epoch 15/15] [23] [Batch loss: 0.95  Batch Acc: 56%]\n",
            "[Epoch 15/15] [24] [Batch loss: 0.99  Batch Acc: 68%]\n",
            "[Epoch 15/15] [25] [Batch loss: 1.05  Batch Acc: 62%]\n",
            "[Epoch 15/15] [26] [Batch loss: 0.98  Batch Acc: 68%]\n",
            "[Epoch 15/15] [27] [Batch loss: 1.02  Batch Acc: 60%]\n",
            "[Epoch 15/15] [28] [Batch loss: 0.84  Batch Acc: 74%]\n",
            "[Epoch 15/15] [29] [Batch loss: 1.09  Batch Acc: 60%]\n",
            "[Epoch 15/15] [30] [Batch loss: 0.83  Batch Acc: 74%]\n",
            "[Epoch 15/15] [31] [Batch loss: 0.80  Batch Acc: 63%]\n",
            "[Epoch 15/15] [32] [Batch loss: 1.09  Batch Acc: 63%]\n",
            "[Epoch 15/15] [33] [Batch loss: 0.88  Batch Acc: 74%]\n",
            "[Epoch 15/15] [34] [Batch loss: 1.15  Batch Acc: 63%]\n",
            "[Epoch 15/15] [35] [Batch loss: 0.87  Batch Acc: 72%]\n",
            "[Epoch 15/15] [36] [Batch loss: 1.00  Batch Acc: 60%]\n",
            "[Epoch 15/15] [37] [Batch loss: 1.19  Batch Acc: 51%]\n",
            "[Epoch 15/15] [38] [Batch loss: 0.66  Batch Acc: 81%]\n",
            "Epoch 15 Training Accuracy: 65.93%\n",
            "[Epoch 15/15] [Training Loss: 65%  Validation Loss: 33%] \n",
            "Total Train Time: 0:01:03.004533\n"
          ]
        },
        {
          "output_type": "error",
          "ename": "RuntimeError",
          "evalue": "File /content cannot be opened.",
          "traceback": [
            "\u001b[0;31m---------------------------------------------------------------------------\u001b[0m",
            "\u001b[0;31mRuntimeError\u001b[0m                              Traceback (most recent call last)",
            "\u001b[0;32m<ipython-input-21-6808ad29d2bb>\u001b[0m in \u001b[0;36m<cell line: 0>\u001b[0;34m()\u001b[0m\n\u001b[1;32m     36\u001b[0m \u001b[0mtotalTime\u001b[0m \u001b[0;34m=\u001b[0m \u001b[0mdatetime\u001b[0m\u001b[0;34m.\u001b[0m\u001b[0mnow\u001b[0m\u001b[0;34m(\u001b[0m\u001b[0;34m)\u001b[0m \u001b[0;34m-\u001b[0m \u001b[0mstart\u001b[0m\u001b[0;34m\u001b[0m\u001b[0;34m\u001b[0m\u001b[0m\n\u001b[1;32m     37\u001b[0m \u001b[0mprint\u001b[0m\u001b[0;34m(\u001b[0m\u001b[0;34mf\"Total Train Time: {totalTime}\"\u001b[0m\u001b[0;34m)\u001b[0m\u001b[0;34m\u001b[0m\u001b[0;34m\u001b[0m\u001b[0m\n\u001b[0;32m---> 38\u001b[0;31m \u001b[0mtorch\u001b[0m\u001b[0;34m.\u001b[0m\u001b[0msave\u001b[0m\u001b[0;34m(\u001b[0m\u001b[0;34m{\u001b[0m\u001b[0;34mf'/content/Model | {epochs} {batch_size} {learning_rate} | {datetime.now()}'\u001b[0m\u001b[0;34m:\u001b[0m \u001b[0mmodel\u001b[0m\u001b[0;34m.\u001b[0m\u001b[0mstate_dict\u001b[0m\u001b[0;34m(\u001b[0m\u001b[0;34m)\u001b[0m\u001b[0;34m,\u001b[0m\u001b[0;34m'Optimizer | {epochs} {batch_size} {learning_rate} | {time}'\u001b[0m\u001b[0;34m:\u001b[0m \u001b[0moptimizer\u001b[0m\u001b[0;34m.\u001b[0m\u001b[0mstate_dict\u001b[0m\u001b[0;34m(\u001b[0m\u001b[0;34m)\u001b[0m\u001b[0;34m}\u001b[0m\u001b[0;34m,\u001b[0m \u001b[0mos\u001b[0m\u001b[0;34m.\u001b[0m\u001b[0mgetcwd\u001b[0m\u001b[0;34m(\u001b[0m\u001b[0;34m)\u001b[0m\u001b[0;34m)\u001b[0m\u001b[0;34m\u001b[0m\u001b[0;34m\u001b[0m\u001b[0m\n\u001b[0m",
            "\u001b[0;32m/usr/local/lib/python3.11/dist-packages/torch/serialization.py\u001b[0m in \u001b[0;36msave\u001b[0;34m(obj, f, pickle_module, pickle_protocol, _use_new_zipfile_serialization, _disable_byteorder_record)\u001b[0m\n\u001b[1;32m    941\u001b[0m \u001b[0;34m\u001b[0m\u001b[0m\n\u001b[1;32m    942\u001b[0m     \u001b[0;32mif\u001b[0m \u001b[0m_use_new_zipfile_serialization\u001b[0m\u001b[0;34m:\u001b[0m\u001b[0;34m\u001b[0m\u001b[0;34m\u001b[0m\u001b[0m\n\u001b[0;32m--> 943\u001b[0;31m         \u001b[0;32mwith\u001b[0m \u001b[0m_open_zipfile_writer\u001b[0m\u001b[0;34m(\u001b[0m\u001b[0mf\u001b[0m\u001b[0;34m)\u001b[0m \u001b[0;32mas\u001b[0m \u001b[0mopened_zipfile\u001b[0m\u001b[0;34m:\u001b[0m\u001b[0;34m\u001b[0m\u001b[0;34m\u001b[0m\u001b[0m\n\u001b[0m\u001b[1;32m    944\u001b[0m             _save(\n\u001b[1;32m    945\u001b[0m                 \u001b[0mobj\u001b[0m\u001b[0;34m,\u001b[0m\u001b[0;34m\u001b[0m\u001b[0;34m\u001b[0m\u001b[0m\n",
            "\u001b[0;32m/usr/local/lib/python3.11/dist-packages/torch/serialization.py\u001b[0m in \u001b[0;36m_open_zipfile_writer\u001b[0;34m(name_or_buffer)\u001b[0m\n\u001b[1;32m    808\u001b[0m     \u001b[0;32melse\u001b[0m\u001b[0;34m:\u001b[0m\u001b[0;34m\u001b[0m\u001b[0;34m\u001b[0m\u001b[0m\n\u001b[1;32m    809\u001b[0m         \u001b[0mcontainer\u001b[0m \u001b[0;34m=\u001b[0m \u001b[0m_open_zipfile_writer_buffer\u001b[0m\u001b[0;34m\u001b[0m\u001b[0;34m\u001b[0m\u001b[0m\n\u001b[0;32m--> 810\u001b[0;31m     \u001b[0;32mreturn\u001b[0m \u001b[0mcontainer\u001b[0m\u001b[0;34m(\u001b[0m\u001b[0mname_or_buffer\u001b[0m\u001b[0;34m)\u001b[0m\u001b[0;34m\u001b[0m\u001b[0;34m\u001b[0m\u001b[0m\n\u001b[0m\u001b[1;32m    811\u001b[0m \u001b[0;34m\u001b[0m\u001b[0m\n\u001b[1;32m    812\u001b[0m \u001b[0;34m\u001b[0m\u001b[0m\n",
            "\u001b[0;32m/usr/local/lib/python3.11/dist-packages/torch/serialization.py\u001b[0m in \u001b[0;36m__init__\u001b[0;34m(self, name)\u001b[0m\n\u001b[1;32m    779\u001b[0m             )\n\u001b[1;32m    780\u001b[0m         \u001b[0;32melse\u001b[0m\u001b[0;34m:\u001b[0m\u001b[0;34m\u001b[0m\u001b[0;34m\u001b[0m\u001b[0m\n\u001b[0;32m--> 781\u001b[0;31m             \u001b[0msuper\u001b[0m\u001b[0;34m(\u001b[0m\u001b[0;34m)\u001b[0m\u001b[0;34m.\u001b[0m\u001b[0m__init__\u001b[0m\u001b[0;34m(\u001b[0m\u001b[0mtorch\u001b[0m\u001b[0;34m.\u001b[0m\u001b[0m_C\u001b[0m\u001b[0;34m.\u001b[0m\u001b[0mPyTorchFileWriter\u001b[0m\u001b[0;34m(\u001b[0m\u001b[0mself\u001b[0m\u001b[0;34m.\u001b[0m\u001b[0mname\u001b[0m\u001b[0;34m,\u001b[0m \u001b[0m_compute_crc32\u001b[0m\u001b[0;34m)\u001b[0m\u001b[0;34m)\u001b[0m\u001b[0;34m\u001b[0m\u001b[0;34m\u001b[0m\u001b[0m\n\u001b[0m\u001b[1;32m    782\u001b[0m \u001b[0;34m\u001b[0m\u001b[0m\n\u001b[1;32m    783\u001b[0m     \u001b[0;32mdef\u001b[0m \u001b[0m__exit__\u001b[0m\u001b[0;34m(\u001b[0m\u001b[0mself\u001b[0m\u001b[0;34m,\u001b[0m \u001b[0;34m*\u001b[0m\u001b[0margs\u001b[0m\u001b[0;34m)\u001b[0m \u001b[0;34m->\u001b[0m \u001b[0;32mNone\u001b[0m\u001b[0;34m:\u001b[0m\u001b[0;34m\u001b[0m\u001b[0;34m\u001b[0m\u001b[0m\n",
            "\u001b[0;31mRuntimeError\u001b[0m: File /content cannot be opened."
          ]
        }
      ],
      "source": [
        "start = datetime.now()\n",
        "for epoch in range(epochs):\n",
        "    model.train()\n",
        "    total_loss, total_correct, total_samples = 0, 0, 0\n",
        "    # Training Loop\n",
        "    i = 0\n",
        "    for imgs, labels in train_loader:\n",
        "        i+=1\n",
        "        optimizer.zero_grad()\n",
        "        logits = model(imgs) #compute Predictions\n",
        "        loss = crossentropy_loss_function(logits, labels) #compute Loss\n",
        "        loss.backward() #update Model\n",
        "        optimizer.step()\n",
        "\n",
        "        acc = (logits.argmax(dim=-1) == labels).float().mean().item()\n",
        "        total_loss += loss.item()\n",
        "        total_correct += (logits.argmax(dim=-1) == labels).sum().item()\n",
        "        total_samples += labels.size(0)\n",
        "        print(\"[Epoch %d/%d] [%d] [Batch loss: %.2f  Batch Acc: %d%%]\"% (epoch+1, epochs, i, loss.item(), 100 * acc))\n",
        "\n",
        "\n",
        "    train_acc = total_correct / total_samples * 100\n",
        "    print(f\"Epoch {epoch+1} Training Accuracy: {train_acc:.2f}%\")\n",
        "\n",
        "\n",
        "    model.eval()\n",
        "    total_correct, total_samples = 0, 0\n",
        "    with torch.no_grad():\n",
        "        for imgs, labels in val_loader:\n",
        "            logits = model(imgs)\n",
        "            total_correct += (logits.argmax(dim=-1) == labels).sum().item()\n",
        "            total_samples += labels.size(0)\n",
        "\n",
        "    val_acc = total_correct / total_samples * 100\n",
        "    print(f\"[Epoch %d/%d] [Training Loss: %d%%  Validation Loss: %d%%] \" % (epoch+1, epochs, (train_acc),(val_acc)))\n",
        "totalTime = datetime.now() - start\n",
        "print(f\"Total Train Time: {totalTime}\")\n",
        "torch.save({f'Model | {epochs} {batch_size} {learning_rate} | {datetime.now()}': model.state_dict(),'Optimizer | {epochs} {batch_size} {learning_rate} | {time}': optimizer.state_dict()}, os.getcwd())"
      ]
    },
    {
      "cell_type": "markdown",
      "id": "21327599-0546-46c1-82d8-ab39525988fb",
      "metadata": {
        "id": "21327599-0546-46c1-82d8-ab39525988fb"
      },
      "source": [
        "# Step 3: Analyze Model Results\n",
        "\n",
        "Now its time to grab our test tensor, and look at how our model did. While we could go back and re-train our model to get better results, its common practice in ML to not do this."
      ]
    },
    {
      "cell_type": "code",
      "execution_count": 22,
      "id": "71476cb0-e550-4235-9fd9-69e53e71890f",
      "metadata": {
        "tags": [],
        "id": "71476cb0-e550-4235-9fd9-69e53e71890f",
        "outputId": "9ff50849-f1e9-42a3-e6b4-9a2c3c276296",
        "colab": {
          "base_uri": "https://localhost:8080/"
        }
      },
      "outputs": [
        {
          "output_type": "stream",
          "name": "stdout",
          "text": [
            "Attempting to load data\n"
          ]
        },
        {
          "output_type": "execute_result",
          "data": {
            "text/plain": [
              "LeNet(\n",
              "  (encoder): Sequential(\n",
              "    (0): Conv1d(1, 6, kernel_size=(5,), stride=(1,))\n",
              "    (1): ReLU()\n",
              "    (2): MaxPool1d(kernel_size=2, stride=2, padding=0, dilation=1, ceil_mode=False)\n",
              "    (3): Conv1d(6, 16, kernel_size=(5,), stride=(1,))\n",
              "    (4): ReLU()\n",
              "    (5): MaxPool1d(kernel_size=2, stride=2, padding=0, dilation=1, ceil_mode=False)\n",
              "  )\n",
              "  (classifier): Sequential(\n",
              "    (0): Linear(in_features=12112, out_features=120, bias=True)\n",
              "    (1): ReLU()\n",
              "    (2): Linear(in_features=120, out_features=84, bias=True)\n",
              "    (3): ReLU()\n",
              "    (4): Linear(in_features=84, out_features=14, bias=True)\n",
              "  )\n",
              ")"
            ]
          },
          "metadata": {},
          "execution_count": 22
        }
      ],
      "source": [
        "test = torch.load(\"100k_COD_TestTensor.pt\")\n",
        "test_dataset = DiffractionDataset(num_classes, 1e-3, test['X'], labels=test['Y'], unsupervised=False, categorical='Bravais Lattice')\n",
        "test_loader = torch.utils.data.DataLoader(test_dataset, batch_size=batch_size, shuffle=False, num_workers=1, pin_memory=True)\n",
        "model.eval() #Prints Model (Encoder -> Convolutional Layers, Classifier -> Normal ANN)"
      ]
    },
    {
      "cell_type": "code",
      "execution_count": 23,
      "id": "a5d8a79e-d46d-4b85-8638-e029e245fa67",
      "metadata": {
        "tags": [],
        "id": "a5d8a79e-d46d-4b85-8638-e029e245fa67"
      },
      "outputs": [],
      "source": [
        "input_example = test_dataset[0][0].unsqueeze(0)\n",
        "label_example = test_dataset[0][1]\n",
        "with torch.no_grad():\n",
        "    output_example = model(input_example)\n",
        "    example_pred = torch.argmax(output_example, dim=1).item()  # get predicted class"
      ]
    },
    {
      "cell_type": "code",
      "execution_count": 25,
      "id": "e58e5a0e-6292-481c-99c3-2a0f95fcfea2",
      "metadata": {
        "tags": [],
        "id": "e58e5a0e-6292-481c-99c3-2a0f95fcfea2",
        "outputId": "550a37be-c813-40ca-ac73-37559f57528b",
        "colab": {
          "base_uri": "https://localhost:8080/"
        }
      },
      "outputs": [
        {
          "output_type": "stream",
          "name": "stdout",
          "text": [
            "Example of Input(Diffraction Pattern)\n",
            "tensor([[[0.0010, 0.0010, 0.0010,  ..., 0.1043, 0.1063, 0.1083]]])\n"
          ]
        }
      ],
      "source": [
        "print(\"Example of Input(Diffraction Pattern)\")\n",
        "print(input_example)"
      ]
    },
    {
      "cell_type": "markdown",
      "id": "ae4c9a13-f189-4cad-83a6-891fad02d882",
      "metadata": {
        "id": "ae4c9a13-f189-4cad-83a6-891fad02d882"
      },
      "source": [
        "Logits are the direct output from the model for classificatio. Whatever class maps to a certain index, the number at that index in the array represents the models \"confidence\" that the input maps to that class"
      ]
    },
    {
      "cell_type": "code",
      "execution_count": 26,
      "id": "a5fff8a2-d060-4b28-b48e-254c712b7bf7",
      "metadata": {
        "tags": [],
        "id": "a5fff8a2-d060-4b28-b48e-254c712b7bf7",
        "outputId": "0eb81056-b2bb-4503-91da-17cec98e1eac",
        "colab": {
          "base_uri": "https://localhost:8080/"
        }
      },
      "outputs": [
        {
          "output_type": "stream",
          "name": "stdout",
          "text": [
            "Example of Logits\n",
            "tensor([[-9.9035, -3.1525, -2.8459, -0.0183,  0.2066,  1.2605, -0.3816,  0.0415,\n",
            "         -1.7761,  4.0757, -1.1156, -3.1902,  0.5741,  2.3537]])\n"
          ]
        }
      ],
      "source": [
        "print(\"Example of Logits\")\n",
        "print(output_example)"
      ]
    },
    {
      "cell_type": "code",
      "execution_count": 27,
      "id": "2d8657ee-8c05-4110-81a9-d7d0382851a2",
      "metadata": {
        "id": "2d8657ee-8c05-4110-81a9-d7d0382851a2",
        "outputId": "b192c57d-5aa1-442e-ae60-e99fe2ca7b55",
        "colab": {
          "base_uri": "https://localhost:8080/"
        }
      },
      "outputs": [
        {
          "output_type": "stream",
          "name": "stdout",
          "text": [
            "Numeric Class: 9\n",
            "Bravais Lattice: P-Orthorhombic\n"
          ]
        }
      ],
      "source": [
        "print(f\"Numeric Class: {example_pred}\")\n",
        "print(f\"Bravais Lattice: {mapping['Bravais Lattice'][example_pred]}\")"
      ]
    },
    {
      "cell_type": "code",
      "execution_count": 29,
      "id": "584ceccb-ae23-46ff-ab62-96cfec3d5fa4",
      "metadata": {
        "tags": [],
        "id": "584ceccb-ae23-46ff-ab62-96cfec3d5fa4",
        "outputId": "4765b1ae-1aa4-4ec5-da79-e434c09dd28e",
        "colab": {
          "base_uri": "https://localhost:8080/"
        }
      },
      "outputs": [
        {
          "output_type": "stream",
          "name": "stdout",
          "text": [
            "tensor(9)\n"
          ]
        }
      ],
      "source": [
        "print(label_example) #Hopefully its the same"
      ]
    },
    {
      "cell_type": "markdown",
      "id": "839666cd-bdf7-4a31-9239-d99394013a52",
      "metadata": {
        "id": "839666cd-bdf7-4a31-9239-d99394013a52"
      },
      "source": [
        "### Analyze using test-set"
      ]
    },
    {
      "cell_type": "code",
      "execution_count": 30,
      "id": "015c6047-f53e-4cbe-9b21-3f9d2b9181eb",
      "metadata": {
        "tags": [],
        "id": "015c6047-f53e-4cbe-9b21-3f9d2b9181eb",
        "outputId": "5c4d1177-dc58-43a4-d319-473958fed460",
        "colab": {
          "base_uri": "https://localhost:8080/",
          "height": 1000
        }
      },
      "outputs": [
        {
          "output_type": "stream",
          "name": "stdout",
          "text": [
            "Sample Output from model: \n",
            "tensor([[-9.9035e+00, -3.1525e+00, -2.8459e+00, -1.8327e-02,  2.0659e-01,\n",
            "          1.2605e+00, -3.8159e-01,  4.1543e-02, -1.7761e+00,  4.0757e+00,\n",
            "         -1.1156e+00, -3.1902e+00,  5.7413e-01,  2.3537e+00],\n",
            "        [-1.8698e+01, -7.3068e+00, -3.9194e+00,  6.1686e-01,  4.0044e+00,\n",
            "          5.3416e+00, -2.4571e+00,  1.2811e-01, -1.2078e+00,  3.8050e+00,\n",
            "         -7.3663e-01, -1.8950e+00,  1.0530e+00,  2.9854e+00],\n",
            "        [-1.4137e+01, -5.7541e+00, -3.1724e+00, -1.5136e+00,  3.7067e+00,\n",
            "          4.9643e+00, -1.3513e+00,  8.1811e-02, -1.1850e+00,  3.3010e+00,\n",
            "         -4.5237e-01,  1.7865e-01,  1.8334e-01,  3.2009e+00],\n",
            "        [-4.3391e+00, -1.8882e+00, -1.8213e+00, -9.8778e-02, -1.8939e+00,\n",
            "          3.8285e+00, -2.1399e+00, -2.0025e+00, -2.1320e-01,  1.2109e+00,\n",
            "         -2.5339e-01,  1.4286e-01,  1.4060e+00, -4.8245e-01],\n",
            "        [-9.4622e+00, -7.0092e+00, -2.1464e+00, -2.4875e-01,  6.7859e+00,\n",
            "          2.0880e-01,  9.6260e-02, -2.7138e+00, -6.0601e-01,  1.8954e+00,\n",
            "         -1.4267e-01, -1.4011e+00,  1.4071e+00, -7.1047e-01],\n",
            "        [-1.1987e+01, -1.8697e+00, -9.0942e-01, -1.8655e-01,  1.4003e+00,\n",
            "          1.9585e+00, -1.8803e+00, -1.6217e+00, -1.1409e+00,  3.9728e+00,\n",
            "         -3.7118e+00, -4.6343e+00, -1.9837e+00,  8.4135e-01],\n",
            "        [-9.5775e+00, -3.6978e+00, -3.6065e+00, -2.2698e+00,  3.5516e+00,\n",
            "          4.7482e+00, -1.6807e+00, -8.8360e-01, -9.7029e-01,  2.2657e+00,\n",
            "         -9.5204e-02, -2.1794e-01, -4.0689e-01,  3.0412e+00],\n",
            "        [-1.6761e+01, -7.5439e+00, -3.9365e+00, -3.1893e+00,  3.4223e+00,\n",
            "          5.2644e+00, -1.6227e+00,  5.8800e-02, -1.3410e+00,  4.7549e+00,\n",
            "         -2.2203e-01, -1.4312e+00,  1.1306e+00,  4.2152e+00],\n",
            "        [-2.2643e+01, -1.1106e+01, -4.8010e+00, -3.5857e+00,  5.6766e+00,\n",
            "          4.2737e+00, -1.0430e+00,  1.2756e+00, -3.5408e+00,  3.9892e+00,\n",
            "         -2.3805e-01, -6.3963e+00, -2.7397e-01,  7.8588e+00],\n",
            "        [-6.2396e+00, -2.6681e+00, -3.2465e+00, -3.4269e+00,  1.1754e+00,\n",
            "          4.9113e+00, -1.4295e+00, -1.2892e+00, -2.0246e+00,  2.4442e+00,\n",
            "         -1.5455e+00,  1.7934e-01, -6.3410e-01,  4.2198e+00],\n",
            "        [-1.3902e+01, -8.3991e+00, -5.2377e+00, -3.9512e+00,  4.9132e+00,\n",
            "          6.1160e+00, -1.2749e+00,  2.1921e-01, -6.4445e-01,  5.3617e+00,\n",
            "         -1.3341e+00, -2.1903e+00,  3.8719e-01,  4.3092e+00],\n",
            "        [-6.1966e+00, -2.3511e+00, -3.3063e+00, -2.6078e-01,  2.4911e+00,\n",
            "          3.9767e+00, -8.4640e-01, -4.7671e-01, -9.4618e-01,  1.6546e+00,\n",
            "         -1.3566e+00,  6.0650e-01, -5.4089e-01,  1.5231e+00],\n",
            "        [-3.6407e+00,  2.1034e-01, -2.9631e-01,  4.2967e-01,  5.3828e-01,\n",
            "          2.2075e-01, -1.6020e+00, -4.0512e+00, -1.4472e+00, -3.3206e-01,\n",
            "         -1.0263e+00,  7.8348e-01,  1.3245e+00, -1.7876e+00],\n",
            "        [-2.1188e+01, -8.3825e+00, -3.7982e+00,  2.0849e-01,  7.3927e+00,\n",
            "          4.6732e+00, -2.3762e+00, -1.2713e+00, -2.3041e+00,  3.9594e+00,\n",
            "         -8.5886e-01, -5.9578e+00, -1.2398e+00,  3.9039e+00],\n",
            "        [-2.2965e+00, -1.6277e+00, -1.9964e+00, -1.6453e+00,  1.9435e-02,\n",
            "          2.6394e+00, -1.3379e+00, -1.7377e+00, -1.2834e+00,  1.0175e+00,\n",
            "         -5.8068e-01,  1.8579e-01, -7.3177e-01,  1.6374e+00],\n",
            "        [-2.8703e+01, -1.5002e+01, -6.4179e+00, -2.6653e+00,  7.8253e+00,\n",
            "          5.8952e+00, -1.7914e+00, -1.4225e+00, -4.3952e+00,  5.1445e+00,\n",
            "         -2.5507e+00, -1.1728e+01, -3.6036e-01,  7.8794e+00],\n",
            "        [-2.0413e+01, -9.4103e+00, -3.7056e+00, -1.7071e+00,  3.5275e+00,\n",
            "          4.6450e+00, -2.4354e+00,  2.9759e-01, -2.1274e+00,  4.4543e+00,\n",
            "         -7.5974e-01, -3.4412e+00,  1.0295e+00,  4.7966e+00],\n",
            "        [-3.0442e+00, -1.7106e+00, -2.2147e+00,  2.4404e+00,  4.4220e-01,\n",
            "         -2.6978e+00, -1.2901e+00, -3.8357e+00, -2.1838e+00,  1.2376e+00,\n",
            "         -5.4926e-01, -1.6420e+00,  1.2430e+00, -1.2529e+00],\n",
            "        [-6.8964e+00, -3.4635e+00, -1.9045e+00, -3.2955e+00,  3.0057e+00,\n",
            "          3.8304e+00, -2.0802e+00, -1.5972e+00, -1.5436e+00,  2.9078e+00,\n",
            "         -6.4509e-01, -4.5928e-01, -9.4848e-01,  3.5538e+00],\n",
            "        [-1.6016e-01,  1.4398e+00,  3.7614e+00,  2.4776e+00, -2.9364e+00,\n",
            "         -4.5128e+00, -1.7120e+00, -6.2950e+00, -1.6061e+00,  1.6055e-01,\n",
            "          1.9671e+00,  1.1176e+00,  6.9155e-02, -5.5776e+00],\n",
            "        [ 5.6987e+00, -4.1608e+00, -2.6631e+00, -6.6439e-01,  8.7943e-01,\n",
            "         -2.9307e+00,  1.4948e+00, -4.7159e+00, -1.4508e+00,  2.5464e+00,\n",
            "          8.4834e-01, -1.4425e+00,  8.1707e-01, -2.0926e+00],\n",
            "        [-1.6559e+00,  1.7979e+00,  1.2014e+00, -6.2347e-01, -2.7196e-01,\n",
            "         -2.9101e+00, -8.5594e-01, -4.8566e+00, -1.7466e+00,  4.3401e-01,\n",
            "          3.1481e+00, -2.3077e+00, -1.8546e+00, -3.2230e+00],\n",
            "        [-1.2615e+01, -6.2278e+00, -3.8439e+00, -2.8749e+00,  2.8479e+00,\n",
            "          4.7736e+00, -1.1855e+00,  2.2943e-01, -7.2324e-01,  4.2931e+00,\n",
            "         -1.1599e+00, -2.8749e-01,  9.2309e-01,  3.8692e+00],\n",
            "        [-1.4215e+01, -9.0579e+00, -4.8155e+00, -3.4004e+00,  4.0726e+00,\n",
            "          3.6200e+00,  1.6804e-01,  1.1452e+00, -5.1043e-01,  6.7484e+00,\n",
            "          7.5478e-01, -3.5697e+00,  1.3451e+00,  3.6733e+00],\n",
            "        [-1.5988e+01, -6.4792e+00, -3.6369e+00, -1.1569e+00,  5.4361e+00,\n",
            "          5.1464e+00, -2.4021e+00, -3.3927e-01, -1.5227e+00,  4.1771e+00,\n",
            "          7.0356e-02, -2.8222e+00, -4.0673e-01,  4.0675e+00],\n",
            "        [ 3.9027e-02,  5.8786e-01,  5.4639e+00, -7.2272e-01, -1.5548e+00,\n",
            "         -4.4988e+00, -5.2515e-01, -6.2384e+00, -2.1669e+00, -1.7421e+00,\n",
            "          1.9298e+00,  2.5653e-01, -8.7566e-01, -4.8268e+00],\n",
            "        [-1.5213e+01, -7.4229e+00, -4.0732e+00, -2.7382e+00,  3.4896e+00,\n",
            "          3.3177e+00, -1.2130e+00,  1.1495e+00, -1.4674e+00,  5.0285e+00,\n",
            "         -2.3203e-01, -1.8940e+00,  5.5111e-01,  4.9030e+00],\n",
            "        [-7.0992e+00, -5.2829e+00, -5.0744e+00, -3.4523e+00,  2.0484e+00,\n",
            "          4.6487e+00,  7.3681e-01,  1.1866e+00, -7.3307e-01,  2.4565e+00,\n",
            "         -1.7336e+00,  5.5456e-01,  3.5020e-01,  3.8294e+00],\n",
            "        [-7.8699e+00, -8.6214e-01, -2.1475e+00,  1.0370e+00,  1.4964e+00,\n",
            "          1.6598e+00, -1.5773e+00, -1.7371e+00, -1.6482e+00,  9.6980e-01,\n",
            "          1.9755e-01,  5.2436e-01, -8.1854e-01,  5.4075e-01],\n",
            "        [-6.9876e+00, -3.6717e+00, -2.1939e+00, -3.9604e+00,  1.9427e+00,\n",
            "          3.8851e+00, -1.6149e+00, -8.9481e-01, -5.8810e-01,  1.7356e+00,\n",
            "          2.4762e-03,  1.7275e+00, -2.6899e-01,  3.3209e+00],\n",
            "        [-1.4713e+01, -6.4425e+00, -3.5923e+00, -3.6672e+00,  3.1783e+00,\n",
            "          4.8754e+00, -2.4923e+00, -5.0474e-01, -1.7184e+00,  4.7361e+00,\n",
            "         -3.8274e-01, -1.3392e+00, -3.1555e-01,  5.2820e+00],\n",
            "        [-3.3853e+00, -2.8432e+00, -1.8880e+00,  1.1152e+00, -3.0446e+00,\n",
            "          4.5011e-01, -5.4320e-01, -3.1434e+00,  3.9043e-01,  3.5050e+00,\n",
            "          2.6834e+00,  1.8589e-01,  1.9331e+00, -4.0564e+00],\n",
            "        [-7.1442e+00, -2.9456e+00, -2.2772e+00, -1.2454e+00, -4.0963e-01,\n",
            "          2.9272e+00, -1.6853e+00, -1.9628e+00, -1.5542e+00,  4.3061e+00,\n",
            "          2.0728e-01, -3.4171e-02,  9.5711e-02,  1.3910e+00],\n",
            "        [ 8.5453e+00,  2.0153e-01,  1.4918e+00, -2.7297e-01, -1.6242e+00,\n",
            "         -5.0968e+00,  1.5483e+00, -6.2285e+00, -2.1304e+00, -2.1689e+00,\n",
            "          2.7419e+00, -1.8706e+00, -5.6651e-01, -5.3133e+00],\n",
            "        [-1.3258e+01, -7.5519e+00, -4.2550e+00, -2.1325e+00,  4.8697e+00,\n",
            "          2.7397e+00,  2.4973e-01,  1.1390e+00, -5.7313e-01,  3.1971e+00,\n",
            "          3.4728e-01, -3.8225e-01,  7.0604e-01,  3.0290e+00],\n",
            "        [ 1.2239e+00,  2.6400e+00,  6.0948e-01,  3.8851e+00, -3.6213e+00,\n",
            "         -3.6024e+00, -7.0471e-01, -5.8015e+00, -2.9468e+00,  1.5593e+00,\n",
            "         -4.4657e+00, -1.1760e+00, -8.6611e-01, -3.9797e+00],\n",
            "        [-1.9820e+01, -9.8492e+00, -5.6552e+00, -3.0091e+00,  4.0482e+00,\n",
            "          6.9328e+00, -5.9157e-01,  1.6657e+00, -1.2154e+00,  5.6487e+00,\n",
            "         -2.0342e+00, -2.4204e+00,  1.2277e+00,  4.5383e+00],\n",
            "        [ 2.7691e+00,  1.5532e+00,  1.1609e+00,  4.5689e-01, -4.4359e-01,\n",
            "         -4.9633e+00, -1.1002e+00, -6.6318e+00, -2.3575e+00, -9.5314e-01,\n",
            "          4.3057e-01, -5.2997e-01,  6.9073e-01, -3.5757e+00],\n",
            "        [ 9.7322e+00, -1.1517e+00, -1.7277e+00,  9.1290e-01, -3.1536e+00,\n",
            "         -4.0733e+00,  2.4299e+00, -5.3021e+00, -1.1153e+00, -1.3086e+00,\n",
            "          1.9658e+00,  5.6980e-01,  8.3338e-02, -5.3249e+00],\n",
            "        [-4.8663e+00, -4.2325e+00, -1.9028e+00, -1.3157e+00,  1.6766e+00,\n",
            "          9.8840e-01,  7.8625e-02, -2.1886e+00, -1.5014e-01, -1.8840e-01,\n",
            "          3.0390e+00,  1.8319e+00,  1.5673e+00, -1.3813e+00],\n",
            "        [ 7.2283e+00, -1.5777e+00,  2.0663e+00, -8.0186e-01, -1.0312e+00,\n",
            "         -5.5618e+00,  1.4466e+00, -7.0068e+00, -1.4982e+00, -9.8611e-01,\n",
            "          3.3999e+00, -1.2074e+00,  1.3619e-01, -5.8289e+00],\n",
            "        [-2.4502e+00,  8.1037e-01,  2.6360e+00,  2.5538e+00,  1.4542e+00,\n",
            "         -4.5820e+00, -2.9444e+00, -8.4519e+00, -1.4970e+00,  3.3994e+00,\n",
            "         -2.2016e+00, -2.0058e+00,  8.7779e-01, -5.6371e+00],\n",
            "        [-9.2368e-01,  7.4438e-01,  2.1356e+00, -6.2033e-01, -1.6118e+00,\n",
            "         -2.7414e+00, -6.3289e-01, -3.8818e+00, -2.3213e+00,  1.1358e+00,\n",
            "          2.8153e+00, -2.7834e+00, -2.4054e+00, -2.3144e+00],\n",
            "        [-1.7455e+01, -6.4843e+00, -3.8865e+00, -7.5273e-01,  2.8066e+00,\n",
            "          3.2573e+00, -5.3009e-01,  1.3204e+00, -1.4302e+00,  4.0029e+00,\n",
            "         -6.7179e-01, -1.1928e+00,  1.5332e+00,  3.6234e+00],\n",
            "        [-1.5867e+01, -8.0160e+00, -4.7185e+00, -3.7873e+00,  4.6030e+00,\n",
            "          6.6614e+00, -2.2282e+00, -5.2855e-01, -1.2725e+00,  6.1272e+00,\n",
            "         -4.6550e-01, -3.2935e+00,  2.0859e-01,  4.6336e+00],\n",
            "        [-6.3974e+00, -1.6322e+00, -1.6185e+00, -1.1354e-01,  6.8985e-01,\n",
            "          2.7520e+00, -1.4783e+00, -1.4943e+00, -1.1441e+00,  1.2672e+00,\n",
            "          9.3332e-01,  1.1133e+00, -8.0391e-01,  4.4767e-01],\n",
            "        [-1.2745e+01, -6.4790e+00, -3.6132e+00, -1.8528e+00,  2.0824e+00,\n",
            "          4.9103e+00, -4.3674e-01,  7.5125e-01, -5.7565e-01,  3.5215e+00,\n",
            "         -5.2565e-01,  4.6867e-01,  7.9734e-01,  2.6113e+00],\n",
            "        [-6.7634e+00, -5.9187e+00, -4.0668e+00, -1.9006e+00,  2.7139e+00,\n",
            "          1.2661e+00, -6.4034e-01, -2.6184e+00, -1.2199e+00,  5.9896e+00,\n",
            "          2.1246e+00, -3.8958e+00, -1.3131e-01,  1.0886e+00],\n",
            "        [-2.3627e+01, -1.4850e+01, -9.4801e+00,  1.5547e+00,  7.4384e+00,\n",
            "          6.9035e+00, -4.3171e-02,  2.9049e-01, -1.0894e+00,  4.2189e+00,\n",
            "         -4.5248e-01, -4.5782e+00,  2.4935e+00,  3.0299e+00],\n",
            "        [-8.5385e-01, -3.6401e+00, -7.8110e-01, -1.5781e+00,  1.6920e+00,\n",
            "         -4.3139e-01,  5.5634e-01, -2.8191e+00,  1.4481e+00, -8.6544e-01,\n",
            "          5.5477e-02,  2.6194e+00,  2.3072e+00, -3.5920e+00]])\n",
            "After running through argmax: \n",
            "tensor([ 9,  5,  5,  5,  4,  9,  5,  5, 13,  5,  5,  5, 12,  4,  5, 13, 13,  3,\n",
            "         5,  2,  0, 10,  5,  9,  4,  2,  9,  5,  5,  5, 13,  9,  9,  0,  4,  3,\n",
            "         5,  0,  0, 10,  0,  9, 10,  9,  5,  5,  5,  9,  4, 11])\n",
            "Test Accuracy: 66.3093415007657%\n",
            "Test Root Sqaured Mean Error(RSME): 3.2525954610560297\n"
          ]
        },
        {
          "output_type": "display_data",
          "data": {
            "text/plain": [
              "<Figure size 1000x800 with 0 Axes>"
            ]
          },
          "metadata": {}
        },
        {
          "output_type": "display_data",
          "data": {
            "text/plain": [
              "<Figure size 640x480 with 2 Axes>"
            ],
            "image/png": "[encoded data removed]"
          },
          "metadata": {}
        }
      ],
      "source": [
        "listofpreds = []\n",
        "listoflabels = []\n",
        "\n",
        "count = 0\n",
        "with torch.no_grad():\n",
        "    for inputs, labels in test_loader:\n",
        "        count+=1\n",
        "        outputs = model(inputs)\n",
        "        predictions = torch.argmax(outputs, dim=1)\n",
        "        listofpreds.extend(predictions)\n",
        "        listoflabels.extend(labels)\n",
        "accuracy = np.mean(np.array(listofpreds) == np.array(listoflabels))\n",
        "print(f\"Test Accuracy: {accuracy * 100}%\")\n",
        "rmse = np.sqrt(mean_squared_error(listoflabels, listofpreds))\n",
        "print(f\"Test Root Sqaured Mean Error(RSME): {rmse}\")\n",
        "\n",
        "conf_matrix = confusion_matrix(listoflabels, listofpreds)\n",
        "plt.figure(figsize=(10, 8))\n",
        "disp = ConfusionMatrixDisplay(conf_matrix)\n",
        "disp.plot(cmap=plt.cm.Reds, values_format='d')\n",
        "plt.title(\"Confusion Matrix for bravais lattice\")\n",
        "plt.show()"
      ]
    },
    {
      "cell_type": "code",
      "execution_count": null,
      "id": "d3b2063c-896e-492c-8ebf-83c2371320be",
      "metadata": {
        "scrolled": true,
        "tags": [],
        "id": "d3b2063c-896e-492c-8ebf-83c2371320be"
      },
      "outputs": [],
      "source": []
    }
  ],
  "metadata": {
    "kernelspec": {
      "display_name": "Python Crisp",
      "language": "python",
      "name": "crisp"
    },
    "language_info": {
      "codemirror_mode": {
        "name": "ipython",
        "version": 3
      },
      "file_extension": ".py",
      "mimetype": "text/x-python",
      "name": "python",
      "nbconvert_exporter": "python",
      "pygments_lexer": "ipython3",
      "version": "3.11.9"
    },
    "colab": {
      "provenance": []
    }
  },
  "nbformat": 4,
  "nbformat_minor": 5
}